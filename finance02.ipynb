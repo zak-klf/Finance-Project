{
 "cells": [
  {
   "cell_type": "code",
   "execution_count": 1,
   "id": "71e1f7d0-4e0f-4950-acfb-56ccf4f1853d",
   "metadata": {},
   "outputs": [],
   "source": [
    "import os\n",
    "from os import listdir\n",
    "from os.path import isfile, join\n",
    "\n",
    "import numpy as np\n",
    "import pandas as pd\n",
    "from pandas_datareader import data as web\n",
    "import matplotlib.pyplot as plt\n",
    "import matplotlib.dates as mdates\n",
    "%matplotlib inline\n",
    "\n",
    "import datetime as dt\n",
    "import mplfinance as mpf\n",
    "\n",
    "import time"
   ]
  },
  {
   "cell_type": "markdown",
   "id": "95182b20-aef7-4d9b-a58e-a0fe01f9236c",
   "metadata": {},
   "source": [
    "<h2>Default Values</h2>"
   ]
  },
  {
   "cell_type": "code",
   "execution_count": 2,
   "id": "f01751c3-d587-404a-b894-b414092a8ae4",
   "metadata": {},
   "outputs": [],
   "source": [
    "PATH=\"C:/Users/Zak/Documents/Programming/Data_Science/Finance/finance_course/Stock_list/\"\n",
    "import default_values"
   ]
  },
  {
   "cell_type": "markdown",
   "id": "f41a6c2d-b5ff-41ce-8562-8e0e3735510e",
   "metadata": {},
   "source": [
    "<h2>Get Stock File Names in a List</h2>"
   ]
  },
  {
   "cell_type": "code",
   "execution_count": 3,
   "id": "d0519ef3-4d9c-4bbd-b10c-506a0e3778a8",
   "metadata": {},
   "outputs": [],
   "source": [
    "# listdir is going to return all files in the directory, if the thing listed is a file, then we'll store its name in a \"files\" list\n",
    "files = [x for x in listdir(PATH) if isfile (join(PATH,x))]\n",
    "\n",
    "# and now remove the \".csv\" extenstion\n",
    "tickers = [os.path.splitext(x)[0] for x in files]"
   ]
  },
  {
   "cell_type": "markdown",
   "id": "0a40611c-e31d-46d7-8f92-20134658cdf4",
   "metadata": {},
   "source": [
    "<h2>Create Dataframe from our list</h2>"
   ]
  },
  {
   "cell_type": "code",
   "execution_count": 4,
   "id": "e6285634-2431-4335-be05-c43a3b5aea86",
   "metadata": {},
   "outputs": [
    {
     "data": {
      "text/html": [
       "<div>\n",
       "<style scoped>\n",
       "    .dataframe tbody tr th:only-of-type {\n",
       "        vertical-align: middle;\n",
       "    }\n",
       "\n",
       "    .dataframe tbody tr th {\n",
       "        vertical-align: top;\n",
       "    }\n",
       "\n",
       "    .dataframe thead th {\n",
       "        text-align: right;\n",
       "    }\n",
       "</style>\n",
       "<table border=\"1\" class=\"dataframe\">\n",
       "  <thead>\n",
       "    <tr style=\"text-align: right;\">\n",
       "      <th></th>\n",
       "      <th>Ticker</th>\n",
       "    </tr>\n",
       "  </thead>\n",
       "  <tbody>\n",
       "    <tr>\n",
       "      <th>0</th>\n",
       "      <td>AA</td>\n",
       "    </tr>\n",
       "    <tr>\n",
       "      <th>1</th>\n",
       "      <td>AAL</td>\n",
       "    </tr>\n",
       "    <tr>\n",
       "      <th>2</th>\n",
       "      <td>AAME</td>\n",
       "    </tr>\n",
       "    <tr>\n",
       "      <th>3</th>\n",
       "      <td>AAOI</td>\n",
       "    </tr>\n",
       "    <tr>\n",
       "      <th>4</th>\n",
       "      <td>AAON</td>\n",
       "    </tr>\n",
       "    <tr>\n",
       "      <th>...</th>\n",
       "      <td>...</td>\n",
       "    </tr>\n",
       "    <tr>\n",
       "      <th>2901</th>\n",
       "      <td>ZSAN</td>\n",
       "    </tr>\n",
       "    <tr>\n",
       "      <th>2902</th>\n",
       "      <td>ZTS</td>\n",
       "    </tr>\n",
       "    <tr>\n",
       "      <th>2903</th>\n",
       "      <td>ZUMZ</td>\n",
       "    </tr>\n",
       "    <tr>\n",
       "      <th>2904</th>\n",
       "      <td>ZYNE</td>\n",
       "    </tr>\n",
       "    <tr>\n",
       "      <th>2905</th>\n",
       "      <td>ZYXI</td>\n",
       "    </tr>\n",
       "  </tbody>\n",
       "</table>\n",
       "<p>2906 rows × 1 columns</p>\n",
       "</div>"
      ],
      "text/plain": [
       "     Ticker\n",
       "0        AA\n",
       "1       AAL\n",
       "2      AAME\n",
       "3      AAOI\n",
       "4      AAON\n",
       "...     ...\n",
       "2901   ZSAN\n",
       "2902    ZTS\n",
       "2903   ZUMZ\n",
       "2904   ZYNE\n",
       "2905   ZYXI\n",
       "\n",
       "[2906 rows x 1 columns]"
      ]
     },
     "execution_count": 4,
     "metadata": {},
     "output_type": "execute_result"
    }
   ],
   "source": [
    "stock_df = pd.DataFrame(tickers, columns = ['Ticker'])\n",
    "stock_df"
   ]
  },
  {
   "cell_type": "markdown",
   "id": "8e5233d6-b5ea-423d-bce6-935bae202d10",
   "metadata": {},
   "source": [
    "<h2>Function that returns a Dataframe from a CSV</h2>"
   ]
  },
  {
   "cell_type": "code",
   "execution_count": 5,
   "id": "aca40c8d-14e2-4657-a2f0-3ca108e6927f",
   "metadata": {},
   "outputs": [],
   "source": [
    "def get_df_from_csv(ticker):\n",
    "    try:\n",
    "        df = pd.read_csv(PATH + ticker + '.csv')\n",
    "        df = df[::-1]\n",
    "    except FileNotFoundError:\n",
    "        print(\"File Doesn't exist\")\n",
    "    else:\n",
    "        return df"
   ]
  },
  {
   "cell_type": "markdown",
   "id": "24466410-2870-4ddd-970d-d014a6cc6f49",
   "metadata": {},
   "source": [
    "<h2>Function that saves a dataframe into a CSV</h2>"
   ]
  },
  {
   "cell_type": "code",
   "execution_count": 6,
   "id": "3c4161a8-a187-4708-a54d-451d978ab2d9",
   "metadata": {},
   "outputs": [],
   "source": [
    "def save_df_to_csv(df, ticker):\n",
    "    df.to_csv(PATH + ticker + '.csv')"
   ]
  },
  {
   "cell_type": "markdown",
   "id": "ce835a4f-e6c8-4a7b-985e-672b4d24fdd5",
   "metadata": {},
   "source": [
    "<h2>Delete Unnamed Columns in CSV Files</h2>"
   ]
  },
  {
   "cell_type": "code",
   "execution_count": 7,
   "id": "02f1f339-0f48-4cf3-a471-33a9babfa1fe",
   "metadata": {},
   "outputs": [],
   "source": [
    "def delete_unnamed_cols(df):\n",
    "    df = df.loc[:, ~df.columns.str.contains('^Unnamed')]\n",
    "    return df"
   ]
  },
  {
   "cell_type": "markdown",
   "id": "a0eeb459-997d-44d3-b204-70843b1a9ffc",
   "metadata": {},
   "source": [
    "<h2>Add Daily Return to Dataframe</h2>"
   ]
  },
  {
   "cell_type": "code",
   "execution_count": 8,
   "id": "6fd0b4fa-b7aa-43d5-9c69-4a34f479c2b9",
   "metadata": {},
   "outputs": [],
   "source": [
    "def add_daily_return_to_df(df, ticker):\n",
    "    df['daily_return'] = (df['Adj Close'] / df['Adj Close'].shift(1)) - 1\n",
    "    df.to_csv(PATH + ticker + '.csv')\n",
    "    return df"
   ]
  },
  {
   "cell_type": "markdown",
   "id": "cb234c03-ad8b-4457-a041-00c011484445",
   "metadata": {},
   "source": [
    "<h2>Returns ROI over Time</h2>"
   ]
  },
  {
   "cell_type": "markdown",
   "id": "23dfca21-6319-448b-a09f-30bcb2983b7a",
   "metadata": {},
   "source": [
    "ROI is return revceived from investment\n",
    "\n",
    "This amount does not include initial investment\n",
    "\n",
    "EX : if you invest 100 and get 200 after 5 years,\n",
    "ROI = [End_Value (200) - Initial_Value (100)] / Initial_Value = 1\n",
    "\n",
    "the new total is Initial Investment + 1(ROI) * Initial_Investment = 200"
   ]
  },
  {
   "cell_type": "code",
   "execution_count": 9,
   "id": "7f556783-4a93-4656-8fca-210190e058f7",
   "metadata": {},
   "outputs": [],
   "source": [
    "def get_roi_defined_time(df):\n",
    "    df['Date'] = pd.to_datetime(df['Date'])\n",
    "    start_val = df[ df['Date'] == S_DATE_STR] ['Adj Close'][0]\n",
    "    end_val = df[ df['Date'] == E_DATE_STR] ['Adj Close'][0]\n",
    "    \n",
    "    print(\"Initial Price:\", start_val)\n",
    "    print(\"Final Price:\", end_val)\n",
    "    \n",
    "    roi = ((end_val - start_val) / start_val)\n",
    "    return roi"
   ]
  },
  {
   "cell_type": "markdown",
   "id": "1ce2d178-2b3d-4bce-8188-1be3ce83f3ed",
   "metadata": {},
   "source": [
    "<h2>Get Covariance</h2>"
   ]
  },
  {
   "cell_type": "code",
   "execution_count": 10,
   "id": "8266f502-38ec-4075-bcf8-f621b56b1f41",
   "metadata": {},
   "outputs": [],
   "source": [
    "def get_cov(stock_df):\n",
    "    mean = stock_df['Adj Close'].mean()\n",
    "    sd = stock_df['Adj Close'].std()\n",
    "    \n",
    "    cov = sd / mean\n",
    "    return cov"
   ]
  },
  {
   "cell_type": "markdown",
   "id": "e588c124-eeca-4a62-a7e9-5ead358f9cf5",
   "metadata": {},
   "source": [
    "<h2>Test Functions</h2>"
   ]
  },
  {
   "cell_type": "code",
   "execution_count": 11,
   "id": "458f7680-f279-43ef-87c3-91696dd96e2e",
   "metadata": {},
   "outputs": [
    {
     "data": {
      "text/html": [
       "<div>\n",
       "<style scoped>\n",
       "    .dataframe tbody tr th:only-of-type {\n",
       "        vertical-align: middle;\n",
       "    }\n",
       "\n",
       "    .dataframe tbody tr th {\n",
       "        vertical-align: top;\n",
       "    }\n",
       "\n",
       "    .dataframe thead th {\n",
       "        text-align: right;\n",
       "    }\n",
       "</style>\n",
       "<table border=\"1\" class=\"dataframe\">\n",
       "  <thead>\n",
       "    <tr style=\"text-align: right;\">\n",
       "      <th></th>\n",
       "      <th>Date</th>\n",
       "      <th>Adj Close</th>\n",
       "      <th>daily_return</th>\n",
       "    </tr>\n",
       "  </thead>\n",
       "  <tbody>\n",
       "    <tr>\n",
       "      <th>1165</th>\n",
       "      <td>2017-01-03</td>\n",
       "      <td>23.100000</td>\n",
       "      <td>NaN</td>\n",
       "    </tr>\n",
       "    <tr>\n",
       "      <th>1164</th>\n",
       "      <td>2017-01-04</td>\n",
       "      <td>23.510000</td>\n",
       "      <td>0.017749</td>\n",
       "    </tr>\n",
       "    <tr>\n",
       "      <th>1163</th>\n",
       "      <td>2017-01-05</td>\n",
       "      <td>22.809999</td>\n",
       "      <td>-0.029775</td>\n",
       "    </tr>\n",
       "    <tr>\n",
       "      <th>1162</th>\n",
       "      <td>2017-01-06</td>\n",
       "      <td>22.420000</td>\n",
       "      <td>-0.017098</td>\n",
       "    </tr>\n",
       "    <tr>\n",
       "      <th>1161</th>\n",
       "      <td>2017-01-09</td>\n",
       "      <td>22.240000</td>\n",
       "      <td>-0.008029</td>\n",
       "    </tr>\n",
       "    <tr>\n",
       "      <th>...</th>\n",
       "      <td>...</td>\n",
       "      <td>...</td>\n",
       "      <td>...</td>\n",
       "    </tr>\n",
       "    <tr>\n",
       "      <th>4</th>\n",
       "      <td>2021-08-13</td>\n",
       "      <td>7.040000</td>\n",
       "      <td>0.005714</td>\n",
       "    </tr>\n",
       "    <tr>\n",
       "      <th>3</th>\n",
       "      <td>2021-08-16</td>\n",
       "      <td>6.760000</td>\n",
       "      <td>-0.039773</td>\n",
       "    </tr>\n",
       "    <tr>\n",
       "      <th>2</th>\n",
       "      <td>2021-08-17</td>\n",
       "      <td>6.520000</td>\n",
       "      <td>-0.035503</td>\n",
       "    </tr>\n",
       "    <tr>\n",
       "      <th>1</th>\n",
       "      <td>2021-08-18</td>\n",
       "      <td>6.690000</td>\n",
       "      <td>0.026074</td>\n",
       "    </tr>\n",
       "    <tr>\n",
       "      <th>0</th>\n",
       "      <td>2021-08-19</td>\n",
       "      <td>6.520000</td>\n",
       "      <td>-0.025411</td>\n",
       "    </tr>\n",
       "  </tbody>\n",
       "</table>\n",
       "<p>1166 rows × 3 columns</p>\n",
       "</div>"
      ],
      "text/plain": [
       "            Date  Adj Close  daily_return\n",
       "1165  2017-01-03  23.100000           NaN\n",
       "1164  2017-01-04  23.510000      0.017749\n",
       "1163  2017-01-05  22.809999     -0.029775\n",
       "1162  2017-01-06  22.420000     -0.017098\n",
       "1161  2017-01-09  22.240000     -0.008029\n",
       "...          ...        ...           ...\n",
       "4     2021-08-13   7.040000      0.005714\n",
       "3     2021-08-16   6.760000     -0.039773\n",
       "2     2021-08-17   6.520000     -0.035503\n",
       "1     2021-08-18   6.690000      0.026074\n",
       "0     2021-08-19   6.520000     -0.025411\n",
       "\n",
       "[1166 rows x 3 columns]"
      ]
     },
     "execution_count": 11,
     "metadata": {},
     "output_type": "execute_result"
    }
   ],
   "source": [
    "\n",
    "stock_a = get_df_from_csv(tickers[3])\n",
    "stock_a = delete_unnamed_cols(stock_a)\n",
    "stock_a\n",
    "\n",
    "add_daily_return_to_df(stock_a,tickers[3])\n",
    "stock_a\n",
    "\n",
    "save_df_to_csv(stock_a, tickers[3])\n",
    "stock_a"
   ]
  },
  {
   "cell_type": "markdown",
   "id": "d83793e7-07f1-4e1f-bdd7-575ca71033fa",
   "metadata": {},
   "source": [
    "<h2>Add daily returns & clean up all files</h2>"
   ]
  },
  {
   "cell_type": "code",
   "execution_count": 12,
   "id": "45e186c8-74c6-4764-9e9e-b5bd187830e5",
   "metadata": {},
   "outputs": [
    {
     "name": "stdout",
     "output_type": "stream",
     "text": [
      "DONE\n"
     ]
    }
   ],
   "source": [
    "tickers.pop(0)\n",
    "for ticker in tickers:\n",
    "    stock_df = get_df_from_csv(ticker)\n",
    "    stock_df = delete_unnamed_cols(stock_df)\n",
    "    add_daily_return_to_df(stock_df,ticker)\n",
    "\n",
    "    save_df_to_csv(stock_df, ticker)\n",
    "    \n",
    "print(\"DONE\")"
   ]
  },
  {
   "cell_type": "markdown",
   "id": "5d31d434-48b9-4a75-b06b-468829e17ae5",
   "metadata": {},
   "source": [
    "<h2>Get Stock Return over time period & Covariance</h2>"
   ]
  },
  {
   "cell_type": "code",
   "execution_count": null,
   "id": "24d900d5-b97c-4841-bb0c-237e45486f10",
   "metadata": {},
   "outputs": [],
   "source": []
  }
 ],
 "metadata": {
  "kernelspec": {
   "display_name": "Python 3 (ipykernel)",
   "language": "python",
   "name": "python3"
  },
  "language_info": {
   "codemirror_mode": {
    "name": "ipython",
    "version": 3
   },
   "file_extension": ".py",
   "mimetype": "text/x-python",
   "name": "python",
   "nbconvert_exporter": "python",
   "pygments_lexer": "ipython3",
   "version": "3.9.16"
  }
 },
 "nbformat": 4,
 "nbformat_minor": 5
}
