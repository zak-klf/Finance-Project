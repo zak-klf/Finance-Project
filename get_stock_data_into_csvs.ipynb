{
 "cells": [
  {
   "cell_type": "markdown",
   "id": "e9feeb35-bf14-476a-837d-5da443564211",
   "metadata": {},
   "source": [
    "<h1>Get Data</h1>"
   ]
  },
  {
   "cell_type": "code",
   "execution_count": 18,
   "id": "35d3b908-41e5-4380-8a34-d9ed91f4de03",
   "metadata": {},
   "outputs": [],
   "source": [
    "import os\n",
    "from os import listdir\n",
    "from os.path import isfile, join\n",
    "\n",
    "import numpy as np\n",
    "import pandas as pd\n",
    "from pandas_datareader import data as web\n",
    "import matplotlib.pyplot as plt\n",
    "import matplotlib.dates as mdates\n",
    "%matplotlib inline\n",
    "\n",
    "import datetime as dt\n",
    "import mplfinance as mpf\n",
    "\n",
    "import time"
   ]
  },
  {
   "cell_type": "markdown",
   "id": "0332f709-8e13-4717-8415-8bfd6d78fff4",
   "metadata": {},
   "source": [
    "<h2>Hold Stocks not downloaded</h2>"
   ]
  },
  {
   "cell_type": "code",
   "execution_count": 19,
   "id": "b3c128be-d4b2-40f3-a447-ed265fa35685",
   "metadata": {},
   "outputs": [],
   "source": [
    "stocks_not_downloaded = []\n",
    "missing_stocks = []"
   ]
  },
  {
   "cell_type": "markdown",
   "id": "0906e7fa-3523-4a92-b4f5-f35b19a51d0c",
   "metadata": {},
   "source": [
    "<h2>Saves stock data to CSV</h2>"
   ]
  },
  {
   "cell_type": "code",
   "execution_count": 20,
   "id": "3509702c-9ae2-4719-9383-e8ce798bafda",
   "metadata": {},
   "outputs": [],
   "source": [
    "def save_to_csv_from_yahoo(folder,ticker,syear, smonth, sday, eyear, emonth, eday):\n",
    "    start = dt.datetime(syear, smonth, sday)\n",
    "    end = dt.datetime(eyear, emonth, eday)\n",
    "    \n",
    "    try:\n",
    "        print(\"Get Data for: \", ticker)\n",
    "        # df = web.DataReader(ticker, 'yahoo', start, end)['Adj Close']\n",
    "        df = web.DataReader(ticker, 'stooq', start, end)['Close']\n",
    "        time.sleep(10)\n",
    "        # invert because stooq gets the data backwards\n",
    "        df = df[::-1] \n",
    "        df.to_csv(folder + ticker + '.csv')\n",
    "    except Exception as ex:\n",
    "        stocks_not_downloaded.append(ticker)\n",
    "        print(\"Couldn't get data for : \", ticker)"
   ]
  },
  {
   "cell_type": "markdown",
   "id": "67b731f9-9b6a-4b70-bdbc-fbbf40023f61",
   "metadata": {},
   "source": [
    "<h2>Returns a Stock DataFrame from a CSV</h2>"
   ]
  },
  {
   "cell_type": "code",
   "execution_count": 21,
   "id": "b07ea9cf-edaa-4b38-827a-fc811c7be9f4",
   "metadata": {},
   "outputs": [],
   "source": [
    "def get_stock_df_from_csv(folder, ticker):\n",
    "    try:\n",
    "        df = pd.read_csv(folder + ticker + '.csv')\n",
    "    except FileNotFoundError:\n",
    "        print(\"File doesn't exist\")\n",
    "    else:\n",
    "        return df"
   ]
  },
  {
   "cell_type": "markdown",
   "id": "20eeb7c9-2b8b-496b-ad2c-3b1b099c97e5",
   "metadata": {},
   "source": [
    "<h2>Returns a Named Column's Data from a CSV</h2>"
   ]
  },
  {
   "cell_type": "code",
   "execution_count": 22,
   "id": "28bfb3a4-3d34-4dd8-997e-2591dd1e1467",
   "metadata": {},
   "outputs": [],
   "source": [
    "def get_column_from_csv(file,col_name):\n",
    "    try:\n",
    "        df = pd.read_csv(file)\n",
    "    except FileNotFoundError:\n",
    "        print(\"File doesn't exist\")\n",
    "    else:\n",
    "        return df[col_name]"
   ]
  },
  {
   "cell_type": "markdown",
   "id": "437348c8-fb75-469a-832b-5109c129869b",
   "metadata": {},
   "source": [
    "<h2>Test receiving stock tickers</h2>"
   ]
  },
  {
   "cell_type": "code",
   "execution_count": 23,
   "id": "a467b4db-0a56-4d02-a5ba-d4d0d7b9c7ce",
   "metadata": {},
   "outputs": [
    {
     "data": {
      "text/plain": [
       "0          A\n",
       "1         AA\n",
       "2        AAL\n",
       "3       AAME\n",
       "4        AAN\n",
       "        ... \n",
       "3476    ZUMZ\n",
       "3477     ZUO\n",
       "3478    ZYNE\n",
       "3479    ZYXI\n",
       "3480    ZNGA\n",
       "Name: Ticker, Length: 3481, dtype: object"
      ]
     },
     "execution_count": 23,
     "metadata": {},
     "output_type": "execute_result"
    }
   ],
   "source": [
    "# Wilshire get file location\n",
    "tickers = get_column_from_csv(\"C:/Users/Zak/Documents/Programming/Data_Science/Finance/finance_course/utils_csv/Wilshire-5000-Stocks.csv\", \"Ticker\")\n",
    "tickers"
   ]
  },
  {
   "cell_type": "markdown",
   "id": "1b7b0793-8176-46a9-9ba5-520036f03052",
   "metadata": {},
   "source": [
    "<h2>Get 4 Years of Data for the first twenty stocks</h2>"
   ]
  },
  {
   "cell_type": "code",
   "execution_count": 24,
   "id": "c048353f-3da9-4202-855e-50f6c987c295",
   "metadata": {},
   "outputs": [
    {
     "name": "stdout",
     "output_type": "stream",
     "text": [
      "Get Data for:  A\n",
      "Get Data for:  AA\n",
      "Get Data for:  AAL\n",
      "Get Data for:  AAME\n",
      "Get Data for:  AAN\n",
      "Get Data for:  AAOI\n",
      "Get Data for:  AAON\n",
      "Get Data for:  AAP\n",
      "Get Data for:  AAPL\n",
      "Get Data for:  AAT\n",
      "Get Data for:  AAWW\n",
      "Get Data for:  AAXN\n",
      "Couldn't get data for :  AAXN\n",
      "Get Data for:  ABBV\n",
      "Get Data for:  ABC\n",
      "Get Data for:  ABCB\n",
      "Get Data for:  ABEO\n",
      "Get Data for:  ABG\n",
      "Get Data for:  ABIO\n",
      "Get Data for:  ABM\n",
      "Get Data for:  ABMD\n",
      "Couldn't get data for :  ABMD\n",
      "finished\n"
     ]
    }
   ],
   "source": [
    "folder = \"C:/Users/Zak/Documents/Programming/Data_Science/Finance/finance_course/Stock_list/\"\n",
    "for x in range(20):\n",
    "    save_to_csv_from_yahoo(folder,tickers[x], 2017,1,1,2021,8,19)\n",
    "print(\"finished\")"
   ]
  },
  {
   "cell_type": "code",
   "execution_count": null,
   "id": "7ae33a6d-70e5-4112-b6a4-7d967bc96e32",
   "metadata": {
    "tags": []
   },
   "outputs": [],
   "source": [
    "for x in range(20,500):\n",
    "    save_to_csv_from_yahoo(folder,tickers[x], 2017,1,1,2021,8,19)\n",
    "print(\"finished\")\n",
    "stocks_not_downloaded"
   ]
  },
  {
   "cell_type": "markdown",
   "id": "6c666e2e-1936-4616-96ca-7d0f84f7248c",
   "metadata": {},
   "source": [
    "<h2>Download Stocks in Blocks</h2>"
   ]
  },
  {
   "cell_type": "code",
   "execution_count": null,
   "id": "4c8bc92d-e7a4-4d64-990f-5fc9ed85d413",
   "metadata": {},
   "outputs": [],
   "source": [
    "for x in missing_stocks:\n",
    "    save_to_csv_from_yahoo(folder,x, 2017,1,1,2021,8,19)\n",
    "print(\"finished\")\n",
    "stocks_not_downloaded"
   ]
  },
  {
   "cell_type": "code",
   "execution_count": null,
   "id": "f6f7b6ae-026f-4220-bb1c-1b33210a8cc9",
   "metadata": {},
   "outputs": [],
   "source": [
    "stocks_not_downloaded"
   ]
  }
 ],
 "metadata": {
  "kernelspec": {
   "display_name": "Python 3 (ipykernel)",
   "language": "python",
   "name": "python3"
  },
  "language_info": {
   "codemirror_mode": {
    "name": "ipython",
    "version": 3
   },
   "file_extension": ".py",
   "mimetype": "text/x-python",
   "name": "python",
   "nbconvert_exporter": "python",
   "pygments_lexer": "ipython3",
   "version": "3.9.16"
  }
 },
 "nbformat": 4,
 "nbformat_minor": 5
}
