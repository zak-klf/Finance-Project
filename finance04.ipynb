{
 "cells": [
  {
   "cell_type": "markdown",
   "id": "abb300c8-9df2-4beb-ba6e-7e9e27348991",
   "metadata": {},
   "source": [
    "<h2>Imports</h2>"
   ]
  },
  {
   "cell_type": "code",
   "execution_count": 1,
   "id": "f8cfe906-e314-4c7f-8fd6-162d810c2b5b",
   "metadata": {},
   "outputs": [],
   "source": [
    "import os\n",
    "from os import listdir\n",
    "from os.path import isfile, join\n",
    "\n",
    "import numpy as np\n",
    "import pandas as pd\n",
    "from pandas_datareader import data as web\n",
    "import matplotlib.pyplot as plt\n",
    "import matplotlib.dates as mdates\n",
    "%matplotlib inline\n",
    "\n",
    "import datetime as dt\n",
    "import mplfinance as mpf\n",
    "\n",
    "import time"
   ]
  },
  {
   "cell_type": "markdown",
   "id": "9e78a951-9feb-4803-beab-1553c8d198b7",
   "metadata": {},
   "source": [
    "<h2>Default Values</h2>"
   ]
  },
  {
   "cell_type": "code",
   "execution_count": 2,
   "id": "a7119671-1e52-47a6-972a-7af847e58aef",
   "metadata": {},
   "outputs": [],
   "source": [
    "PATH=\"C:/Users/Zak/Documents/Programming/Data_Science/Finance/finance_course/Stock_list/\"\n",
    "import default_values"
   ]
  },
  {
   "cell_type": "markdown",
   "id": "8437e9c5-9a70-4595-acda-03fa67b9556e",
   "metadata": {},
   "source": [
    "<h2>Get Stock File Names in a List</h2>"
   ]
  },
  {
   "cell_type": "code",
   "execution_count": 3,
   "id": "2bf819bd-b27c-4955-acf8-48bf7622d3f2",
   "metadata": {},
   "outputs": [],
   "source": [
    "# listdir is going to return all files in the directory, if the thing listed is a file, then we'll store its name in a \"files\" list\n",
    "files = [x for x in listdir(PATH) if isfile (join(PATH,x))]\n",
    "\n",
    "# and now remove the \".csv\" extenstion\n",
    "tickers = [os.path.splitext(x)[0] for x in files]"
   ]
  },
  {
   "cell_type": "markdown",
   "id": "db808eb8-6289-4c02-b78a-d8d58b832ac6",
   "metadata": {},
   "source": [
    "<h2>Returns a Dataframe from a CSV</h2>"
   ]
  },
  {
   "cell_type": "code",
   "execution_count": 4,
   "id": "016c71a8-7302-40ab-86e0-fc5abf3f7654",
   "metadata": {},
   "outputs": [],
   "source": [
    "def get_df_from_csv(ticker):\n",
    "    try:\n",
    "        df = pd.read_csv(PATH + ticker + '.csv')\n",
    "        df = df[::-1]\n",
    "    except FileNotFoundError:\n",
    "        print(\"File Doesn't exist\")\n",
    "    else:\n",
    "        return df"
   ]
  },
  {
   "cell_type": "markdown",
   "id": "ea396f19-0216-46e1-a764-ff050139ea94",
   "metadata": {},
   "source": [
    "<h2>Save Dataframe to CSV & Delete Unnamed Columns</h2>"
   ]
  },
  {
   "cell_type": "code",
   "execution_count": 5,
   "id": "5ca87675-0bf5-408c-a632-dad216283307",
   "metadata": {},
   "outputs": [],
   "source": [
    "def save_df_to_csv(df, ticker):\n",
    "    df.to_csv(PATH + ticker + '.csv')\n",
    "    \n",
    "def delete_unnamed_cols(df):\n",
    "    df = df.loc[:, ~df.columns.str.contains('^Unnamed')]\n",
    "    return df"
   ]
  },
  {
   "cell_type": "markdown",
   "id": "4e0acf9c-4012-4af7-ac35-f8a1064696ab",
   "metadata": {},
   "source": [
    "<h2>Return Valid Dates in Dataframe</h2>"
   ]
  },
  {
   "cell_type": "markdown",
   "id": "70743b1f-4537-4a74-b3c7-2e5e80b804f6",
   "metadata": {},
   "source": [
    "Checks if the dates are good as far as if the stock market is open that day etc..."
   ]
  },
  {
   "cell_type": "code",
   "execution_count": 6,
   "id": "ecff1448-a7e1-42fd-a8e9-290e18b6f680",
   "metadata": {},
   "outputs": [],
   "source": [
    "def get_valid_dates(df, sdate, edate):\n",
    "    try:\n",
    "        mask = (df['Date'] > sdate) & (df['Date'] <= edate)\n",
    "        # create smaller dataframe that only gets the valid dates set by the mask\n",
    "        sm_df = df.loc[mask]\n",
    "        # set indices as dates\n",
    "        sm_df = sm_df.set_index(['Date'])\n",
    "        # get first and last dates of the date range\n",
    "        first_date = sm_df.index.min()\n",
    "        last_date = sm_df.index.max()\n",
    "        \n",
    "        # if the date has only one number (like 1-1-2021), then a '0' is added before\n",
    "        date_leading = '-'.join( ('0' if len(x) < 2 else '') + x for x in first_date.split('-') )\n",
    "        date_ending = '-'.join( ('0' if len(x) < 2 else '') + x for x in last_date.split('-') )\n",
    "    except Exception:\n",
    "        print(\"Date Corrupted\")\n",
    "    else:\n",
    "        return date_leading, date_ending\n",
    "        \n",
    "        "
   ]
  },
  {
   "cell_type": "markdown",
   "id": "b489e7b3-f001-4100-9850-89ff1f279a26",
   "metadata": {},
   "source": [
    "<h2>ROI over time</h2>"
   ]
  },
  {
   "cell_type": "code",
   "execution_count": 7,
   "id": "2324c22c-4231-4ee1-90e0-9761c99defd5",
   "metadata": {},
   "outputs": [],
   "source": [
    "def roi_between_dates(df, sdate, edate):\n",
    "    try:\n",
    "        # Gets the Adj Close price for 1st & last date \n",
    "        start_val = df.loc[sdate]['Adj Close'] \n",
    "        end_val = df.loc[edate]['Adj Close'] \n",
    "        roi = ((end_val - start_val) / start_val)\n",
    "    except Exception:\n",
    "        print(\"Data Corrupted\")\n",
    "    else:\n",
    "        return roi"
   ]
  },
  {
   "cell_type": "markdown",
   "id": "faea48ef-7820-45b5-9cbc-0ed2d4cc6028",
   "metadata": {},
   "source": [
    "<h2>Mean between Dates</h2>"
   ]
  },
  {
   "cell_type": "code",
   "execution_count": 8,
   "id": "e19fb155-0948-41d6-bf6e-567eb26776c1",
   "metadata": {},
   "outputs": [],
   "source": [
    "def get_mean_between_dates(df, sdate, edate):\n",
    "    mask = (df['Date'] > sdate) & (df['Date'] <= edate)\n",
    "    return df.loc[mask]['Adj Close'].mean()"
   ]
  },
  {
   "cell_type": "markdown",
   "id": "112a7755-7b4d-4606-9a9a-f2128d2c5be7",
   "metadata": {},
   "source": [
    "<h2>Standard Deviation between dates</h2>"
   ]
  },
  {
   "cell_type": "code",
   "execution_count": 9,
   "id": "40b84539-09c1-429b-a370-58641f2ca255",
   "metadata": {},
   "outputs": [],
   "source": [
    "def get_sd_between_dates(df, sdate, edate):\n",
    "    mask = (df['Date'] > sdate) & (df['Date'] <= edate)\n",
    "    return df.loc[mask]['Adj Close'].std()"
   ]
  },
  {
   "cell_type": "markdown",
   "id": "64868cdf-d863-499f-95d0-7a6395f40ff7",
   "metadata": {},
   "source": [
    "<h2>Covariance</h2>"
   ]
  },
  {
   "cell_type": "code",
   "execution_count": 10,
   "id": "dc24252c-bb34-4739-9f30-2ed5f17ccbab",
   "metadata": {},
   "outputs": [],
   "source": [
    "def get_cov_between_dates(df, sdate, edate):\n",
    "    return (get_sd_between_dates(df,sdate,edate) / get_mean_between_dates(df,sdate,edate))"
   ]
  },
  {
   "cell_type": "markdown",
   "id": "7a4a96da-6122-4090-bff9-8f3667e184e0",
   "metadata": {},
   "source": [
    "<h2>Test Functions</h2>"
   ]
  },
  {
   "cell_type": "code",
   "execution_count": 11,
   "id": "7b3d7a43-153d-4a0f-b56b-154d941213ae",
   "metadata": {},
   "outputs": [
    {
     "name": "stdout",
     "output_type": "stream",
     "text": [
      "=========================\n",
      "Testing for :  AA\n",
      "=========================\n",
      "('2020-01-02', '2020-12-31')\n",
      "Ajd Close Mean:  13.356706361922006\n",
      "Ajd Close Standard Deviation:  4.545523786027696\n",
      "Ajd Close Covariance:  0.3403177147763248\n",
      "ROI:  0.07609706605792996\n",
      "=========================\n",
      "\n",
      "=========================\n",
      "Testing for CSCO\n",
      "=========================\n",
      "Ajd Close Mean:  41.57403742320954\n",
      "Ajd Close Standard Deviation:  3.446306017645834\n",
      "Ajd Close Covariance:  0.08289562985099601\n",
      "ROI:  -0.05100995551625191\n",
      "=========================\n"
     ]
    }
   ],
   "source": [
    "print(\"=========================\")\n",
    "print(\"Testing for : \", tickers[0])\n",
    "print(\"=========================\")\n",
    "\n",
    "stock_a = get_df_from_csv(tickers[0])\n",
    "\n",
    "print(get_valid_dates(stock_a,'2020-01-01','2020-12-31'))\n",
    "sdate, edate = get_valid_dates(stock_a,'2020-01-01','2020-12-31')\n",
    "print(\"Ajd Close Mean: \", get_mean_between_dates(stock_a, sdate, edate))\n",
    "print(\"Ajd Close Standard Deviation: \", get_sd_between_dates(stock_a, sdate, edate))\n",
    "print(\"Ajd Close Covariance: \", get_cov_between_dates(stock_a, sdate, edate))\n",
    "stock_a = stock_a.set_index(['Date'])\n",
    "print(\"ROI: \", roi_between_dates(stock_a, sdate, edate))\n",
    "print(\"=========================\")\n",
    "print()\n",
    "\n",
    "print(\"=========================\")\n",
    "print(\"Testing for CSCO\")\n",
    "print(\"=========================\")\n",
    "stock_b = get_df_from_csv('CSCO')\n",
    "sdate, edate = get_valid_dates(stock_b,'2020-01-01','2020-12-31')\n",
    "print(\"Ajd Close Mean: \", get_mean_between_dates(stock_b, sdate, edate))\n",
    "print(\"Ajd Close Standard Deviation: \", get_sd_between_dates(stock_b, sdate, edate))\n",
    "print(\"Ajd Close Covariance: \", get_cov_between_dates(stock_b, sdate, edate))\n",
    "stock_b = stock_b.set_index(['Date'])\n",
    "print(\"ROI: \", roi_between_dates(stock_b, sdate, edate))\n",
    "print(\"=========================\")\n",
    "\n"
   ]
  },
  {
   "cell_type": "markdown",
   "id": "b145ae31-a0d0-43a1-b19c-05bfea3e6f2e",
   "metadata": {},
   "source": [
    "<h2>COV & ROI for all stocks over a defined period</h2>"
   ]
  },
  {
   "cell_type": "code",
   "execution_count": 12,
   "id": "161237dd-caac-4da0-80e4-cfc65ed3f3bc",
   "metadata": {},
   "outputs": [],
   "source": [
    "def get_cov_roi(tickers, sdate, edate):\n",
    "    col_names = [\"Ticker\", \"COV\", \"ROI\"]\n",
    "    df = pd.DataFrame(columns= col_names)\n",
    "    for ticker in tickers:\n",
    "        # print(\"Working on : \", ticker)\n",
    "        s_df = get_df_from_csv(ticker)\n",
    "        sdate2, edate2 = get_valid_dates(s_df, sdate, edate)\n",
    "        cov = get_cov_between_dates(s_df, sdate2, edate2)\n",
    "        s_df = s_df.set_index(['Date'])\n",
    "        roi = roi_between_dates(s_df, sdate2, edate2)\n",
    "        df.loc[len(df.index)] = [ticker, cov, roi]\n",
    "    return df"
   ]
  },
  {
   "cell_type": "code",
   "execution_count": 13,
   "id": "f1daa014-a689-490e-9c2e-12cf680d5cb0",
   "metadata": {},
   "outputs": [
    {
     "data": {
      "text/html": [
       "<div>\n",
       "<style scoped>\n",
       "    .dataframe tbody tr th:only-of-type {\n",
       "        vertical-align: middle;\n",
       "    }\n",
       "\n",
       "    .dataframe tbody tr th {\n",
       "        vertical-align: top;\n",
       "    }\n",
       "\n",
       "    .dataframe thead th {\n",
       "        text-align: right;\n",
       "    }\n",
       "</style>\n",
       "<table border=\"1\" class=\"dataframe\">\n",
       "  <thead>\n",
       "    <tr style=\"text-align: right;\">\n",
       "      <th></th>\n",
       "      <th>Ticker</th>\n",
       "      <th>COV</th>\n",
       "      <th>ROI</th>\n",
       "    </tr>\n",
       "  </thead>\n",
       "  <tbody>\n",
       "    <tr>\n",
       "      <th>0</th>\n",
       "      <td>AA</td>\n",
       "      <td>0.158993</td>\n",
       "      <td>-0.180259</td>\n",
       "    </tr>\n",
       "    <tr>\n",
       "      <th>1</th>\n",
       "      <td>AAL</td>\n",
       "      <td>0.094255</td>\n",
       "      <td>-0.106021</td>\n",
       "    </tr>\n",
       "    <tr>\n",
       "      <th>2</th>\n",
       "      <td>AAME</td>\n",
       "      <td>0.123107</td>\n",
       "      <td>-0.202506</td>\n",
       "    </tr>\n",
       "    <tr>\n",
       "      <th>3</th>\n",
       "      <td>AAOI</td>\n",
       "      <td>0.202465</td>\n",
       "      <td>-0.251889</td>\n",
       "    </tr>\n",
       "    <tr>\n",
       "      <th>4</th>\n",
       "      <td>AAON</td>\n",
       "      <td>0.096021</td>\n",
       "      <td>0.418350</td>\n",
       "    </tr>\n",
       "    <tr>\n",
       "      <th>...</th>\n",
       "      <td>...</td>\n",
       "      <td>...</td>\n",
       "      <td>...</td>\n",
       "    </tr>\n",
       "    <tr>\n",
       "      <th>2901</th>\n",
       "      <td>ZSAN</td>\n",
       "      <td>0.372906</td>\n",
       "      <td>-0.350427</td>\n",
       "    </tr>\n",
       "    <tr>\n",
       "      <th>2902</th>\n",
       "      <td>ZTS</td>\n",
       "      <td>0.129821</td>\n",
       "      <td>0.576627</td>\n",
       "    </tr>\n",
       "    <tr>\n",
       "      <th>2903</th>\n",
       "      <td>ZUMZ</td>\n",
       "      <td>0.146251</td>\n",
       "      <td>0.760448</td>\n",
       "    </tr>\n",
       "    <tr>\n",
       "      <th>2904</th>\n",
       "      <td>ZYNE</td>\n",
       "      <td>0.376312</td>\n",
       "      <td>0.623656</td>\n",
       "    </tr>\n",
       "    <tr>\n",
       "      <th>2905</th>\n",
       "      <td>ZYXI</td>\n",
       "      <td>0.320244</td>\n",
       "      <td>1.723183</td>\n",
       "    </tr>\n",
       "  </tbody>\n",
       "</table>\n",
       "<p>2906 rows × 3 columns</p>\n",
       "</div>"
      ],
      "text/plain": [
       "     Ticker       COV       ROI\n",
       "0        AA  0.158993 -0.180259\n",
       "1       AAL  0.094255 -0.106021\n",
       "2      AAME  0.123107 -0.202506\n",
       "3      AAOI  0.202465 -0.251889\n",
       "4      AAON  0.096021  0.418350\n",
       "...     ...       ...       ...\n",
       "2901   ZSAN  0.372906 -0.350427\n",
       "2902    ZTS  0.129821  0.576627\n",
       "2903   ZUMZ  0.146251  0.760448\n",
       "2904   ZYNE  0.376312  0.623656\n",
       "2905   ZYXI  0.320244  1.723183\n",
       "\n",
       "[2906 rows x 3 columns]"
      ]
     },
     "execution_count": 13,
     "metadata": {},
     "output_type": "execute_result"
    }
   ],
   "source": [
    "market_df = get_cov_roi(tickers, '2019-01-01', '2019-12-31')\n",
    "market_df"
   ]
  },
  {
   "cell_type": "code",
   "execution_count": 14,
   "id": "cc8b42cb-e1cc-4622-9e6b-00c28eff0acd",
   "metadata": {},
   "outputs": [
    {
     "name": "stdout",
     "output_type": "stream",
     "text": [
      "Best 20 Stocks based on ROI\n"
     ]
    },
    {
     "data": {
      "text/html": [
       "<div>\n",
       "<style scoped>\n",
       "    .dataframe tbody tr th:only-of-type {\n",
       "        vertical-align: middle;\n",
       "    }\n",
       "\n",
       "    .dataframe tbody tr th {\n",
       "        vertical-align: top;\n",
       "    }\n",
       "\n",
       "    .dataframe thead th {\n",
       "        text-align: right;\n",
       "    }\n",
       "</style>\n",
       "<table border=\"1\" class=\"dataframe\">\n",
       "  <thead>\n",
       "    <tr style=\"text-align: right;\">\n",
       "      <th></th>\n",
       "      <th>Ticker</th>\n",
       "      <th>COV</th>\n",
       "      <th>ROI</th>\n",
       "    </tr>\n",
       "  </thead>\n",
       "  <tbody>\n",
       "    <tr>\n",
       "      <th>286</th>\n",
       "      <td>AXSM</td>\n",
       "      <td>0.745206</td>\n",
       "      <td>37.567163</td>\n",
       "    </tr>\n",
       "    <tr>\n",
       "      <th>791</th>\n",
       "      <td>DRRX</td>\n",
       "      <td>0.566453</td>\n",
       "      <td>6.037037</td>\n",
       "    </tr>\n",
       "    <tr>\n",
       "      <th>1622</th>\n",
       "      <td>MBOT</td>\n",
       "      <td>0.290907</td>\n",
       "      <td>4.438503</td>\n",
       "    </tr>\n",
       "    <tr>\n",
       "      <th>866</th>\n",
       "      <td>ENPH</td>\n",
       "      <td>0.447633</td>\n",
       "      <td>4.310975</td>\n",
       "    </tr>\n",
       "    <tr>\n",
       "      <th>1908</th>\n",
       "      <td>OESX</td>\n",
       "      <td>0.402282</td>\n",
       "      <td>4.000000</td>\n",
       "    </tr>\n",
       "    <tr>\n",
       "      <th>220</th>\n",
       "      <td>ARWR</td>\n",
       "      <td>0.496426</td>\n",
       "      <td>3.834604</td>\n",
       "    </tr>\n",
       "    <tr>\n",
       "      <th>2806</th>\n",
       "      <td>WKHS</td>\n",
       "      <td>0.526715</td>\n",
       "      <td>3.676923</td>\n",
       "    </tr>\n",
       "    <tr>\n",
       "      <th>2238</th>\n",
       "      <td>ROKU</td>\n",
       "      <td>0.374797</td>\n",
       "      <td>3.117466</td>\n",
       "    </tr>\n",
       "    <tr>\n",
       "      <th>1689</th>\n",
       "      <td>MLSS</td>\n",
       "      <td>0.570364</td>\n",
       "      <td>3.088235</td>\n",
       "    </tr>\n",
       "    <tr>\n",
       "      <th>1521</th>\n",
       "      <td>LEU</td>\n",
       "      <td>0.346334</td>\n",
       "      <td>3.047059</td>\n",
       "    </tr>\n",
       "    <tr>\n",
       "      <th>735</th>\n",
       "      <td>DBD</td>\n",
       "      <td>0.274043</td>\n",
       "      <td>2.911111</td>\n",
       "    </tr>\n",
       "    <tr>\n",
       "      <th>515</th>\n",
       "      <td>CFMS</td>\n",
       "      <td>0.461953</td>\n",
       "      <td>2.886010</td>\n",
       "    </tr>\n",
       "    <tr>\n",
       "      <th>190</th>\n",
       "      <td>APPS</td>\n",
       "      <td>0.376899</td>\n",
       "      <td>2.772487</td>\n",
       "    </tr>\n",
       "    <tr>\n",
       "      <th>200</th>\n",
       "      <td>ARAV</td>\n",
       "      <td>0.314364</td>\n",
       "      <td>2.755494</td>\n",
       "    </tr>\n",
       "    <tr>\n",
       "      <th>205</th>\n",
       "      <td>ARDX</td>\n",
       "      <td>0.434847</td>\n",
       "      <td>2.752500</td>\n",
       "    </tr>\n",
       "    <tr>\n",
       "      <th>1754</th>\n",
       "      <td>MTNB</td>\n",
       "      <td>0.309194</td>\n",
       "      <td>2.721311</td>\n",
       "    </tr>\n",
       "    <tr>\n",
       "      <th>882</th>\n",
       "      <td>EPZM</td>\n",
       "      <td>0.198505</td>\n",
       "      <td>2.688156</td>\n",
       "    </tr>\n",
       "    <tr>\n",
       "      <th>2189</th>\n",
       "      <td>RETA</td>\n",
       "      <td>0.442779</td>\n",
       "      <td>2.668222</td>\n",
       "    </tr>\n",
       "    <tr>\n",
       "      <th>2860</th>\n",
       "      <td>XBIT</td>\n",
       "      <td>0.327568</td>\n",
       "      <td>2.624272</td>\n",
       "    </tr>\n",
       "    <tr>\n",
       "      <th>482</th>\n",
       "      <td>CCXI</td>\n",
       "      <td>0.601376</td>\n",
       "      <td>2.572719</td>\n",
       "    </tr>\n",
       "  </tbody>\n",
       "</table>\n",
       "</div>"
      ],
      "text/plain": [
       "     Ticker       COV        ROI\n",
       "286    AXSM  0.745206  37.567163\n",
       "791    DRRX  0.566453   6.037037\n",
       "1622   MBOT  0.290907   4.438503\n",
       "866    ENPH  0.447633   4.310975\n",
       "1908   OESX  0.402282   4.000000\n",
       "220    ARWR  0.496426   3.834604\n",
       "2806   WKHS  0.526715   3.676923\n",
       "2238   ROKU  0.374797   3.117466\n",
       "1689   MLSS  0.570364   3.088235\n",
       "1521    LEU  0.346334   3.047059\n",
       "735     DBD  0.274043   2.911111\n",
       "515    CFMS  0.461953   2.886010\n",
       "190    APPS  0.376899   2.772487\n",
       "200    ARAV  0.314364   2.755494\n",
       "205    ARDX  0.434847   2.752500\n",
       "1754   MTNB  0.309194   2.721311\n",
       "882    EPZM  0.198505   2.688156\n",
       "2189   RETA  0.442779   2.668222\n",
       "2860   XBIT  0.327568   2.624272\n",
       "482    CCXI  0.601376   2.572719"
      ]
     },
     "execution_count": 14,
     "metadata": {},
     "output_type": "execute_result"
    }
   ],
   "source": [
    "print(\"Best 20 Stocks based on ROI\")\n",
    "market_df.sort_values(by=['ROI'], ascending = False).head(20)"
   ]
  },
  {
   "cell_type": "markdown",
   "id": "54e389b4-ea0c-408f-a2af-731d3ce47cea",
   "metadata": {},
   "source": [
    "<h2></h2>"
   ]
  },
  {
   "cell_type": "markdown",
   "id": "5ebaa60d-d955-4165-8998-370c6cf4239a",
   "metadata": {},
   "source": [
    "<h2>Merge multiple Stocks in One Dataframe by Column name</h2>"
   ]
  },
  {
   "cell_type": "code",
   "execution_count": 15,
   "id": "9f4230b5-a562-48a8-af41-506fdae24dc9",
   "metadata": {},
   "outputs": [],
   "source": [
    "def merge_df_by_column_name(col_name, sdate, edate, *tickers):\n",
    "    mult_df = pd.DataFrame()\n",
    "    \n",
    "    for x in tickers:\n",
    "        df = get_df_from_csv(x)\n",
    "        print(\"Working on : \", x)\n",
    "        df['Date'] = pd.to_datetime(df['Date'])\n",
    "        # Use a mask to grab data between defined dates\n",
    "        mask = (df['Date'] >= sdate) & (df['Date'] <= edate)\n",
    "        print(\"colname\",col_name)\n",
    "        mult_df[x] = df.loc[mask][col_name]\n",
    "        \n",
    "    return mult_df"
   ]
  },
  {
   "cell_type": "markdown",
   "id": "915aa5c6-6e42-4530-a881-151caf6d125d",
   "metadata": {},
   "source": [
    "<h2>Create a Correlation Matrix using FAANGS</h2>"
   ]
  },
  {
   "cell_type": "markdown",
   "id": "7702daa0-c49c-47e4-b610-cdea206927fe",
   "metadata": {},
   "source": [
    "@TODO fix with AAPL and AMZN"
   ]
  },
  {
   "cell_type": "code",
   "execution_count": 23,
   "id": "00ab7245-4c12-4b98-90d3-b746fc879c57",
   "metadata": {},
   "outputs": [
    {
     "name": "stdout",
     "output_type": "stream",
     "text": [
      "Working on :  FB\n",
      "colname daily_return\n",
      "Working on :  NFLX\n",
      "colname daily_return\n",
      "Working on :  GOOG\n",
      "colname daily_return\n",
      "Working on :  MSFT\n",
      "colname daily_return\n"
     ]
    },
    {
     "data": {
      "text/html": [
       "<div>\n",
       "<style scoped>\n",
       "    .dataframe tbody tr th:only-of-type {\n",
       "        vertical-align: middle;\n",
       "    }\n",
       "\n",
       "    .dataframe tbody tr th {\n",
       "        vertical-align: top;\n",
       "    }\n",
       "\n",
       "    .dataframe thead th {\n",
       "        text-align: right;\n",
       "    }\n",
       "</style>\n",
       "<table border=\"1\" class=\"dataframe\">\n",
       "  <thead>\n",
       "    <tr style=\"text-align: right;\">\n",
       "      <th></th>\n",
       "      <th>FB</th>\n",
       "      <th>NFLX</th>\n",
       "      <th>GOOG</th>\n",
       "      <th>MSFT</th>\n",
       "    </tr>\n",
       "  </thead>\n",
       "  <tbody>\n",
       "    <tr>\n",
       "      <th>FB</th>\n",
       "      <td>1.000000</td>\n",
       "      <td>0.595254</td>\n",
       "      <td>0.810791</td>\n",
       "      <td>0.776997</td>\n",
       "    </tr>\n",
       "    <tr>\n",
       "      <th>NFLX</th>\n",
       "      <td>0.595254</td>\n",
       "      <td>1.000000</td>\n",
       "      <td>0.546265</td>\n",
       "      <td>0.617632</td>\n",
       "    </tr>\n",
       "    <tr>\n",
       "      <th>GOOG</th>\n",
       "      <td>0.810791</td>\n",
       "      <td>0.546265</td>\n",
       "      <td>1.000000</td>\n",
       "      <td>0.859815</td>\n",
       "    </tr>\n",
       "    <tr>\n",
       "      <th>MSFT</th>\n",
       "      <td>0.776997</td>\n",
       "      <td>0.617632</td>\n",
       "      <td>0.859815</td>\n",
       "      <td>1.000000</td>\n",
       "    </tr>\n",
       "  </tbody>\n",
       "</table>\n",
       "</div>"
      ],
      "text/plain": [
       "            FB      NFLX      GOOG      MSFT\n",
       "FB    1.000000  0.595254  0.810791  0.776997\n",
       "NFLX  0.595254  1.000000  0.546265  0.617632\n",
       "GOOG  0.810791  0.546265  1.000000  0.859815\n",
       "MSFT  0.776997  0.617632  0.859815  1.000000"
      ]
     },
     "execution_count": 23,
     "metadata": {},
     "output_type": "execute_result"
    }
   ],
   "source": [
    "faang_list = [\"FB\", \"NFLX\", \"GOOG\", \"MSFT\"]#,\"AAPL\",\"AMZN\"]\n",
    "mult_df = merge_df_by_column_name('daily_return',  '2020-1-1', '2020-12-31', *faang_list)\n",
    "mult_df.corr()"
   ]
  },
  {
   "cell_type": "code",
   "execution_count": 24,
   "id": "421b8863-654b-417f-83e7-96d76ad3cb1f",
   "metadata": {},
   "outputs": [
    {
     "data": {
      "text/plain": [
       "<Axes: >"
      ]
     },
     "execution_count": 24,
     "metadata": {},
     "output_type": "execute_result"
    },
    {
     "data": {
      "image/png": "[encoded data removed]",
      "text/plain": [
       "<Figure size 640x480 with 1 Axes>"
      ]
     },
     "metadata": {},
     "output_type": "display_data"
    }
   ],
   "source": [
    "mult_df.corr()['NFLX'].plot(kind='bar')"
   ]
  },
  {
   "cell_type": "markdown",
   "id": "5f5a11bc-a769-4698-ad6b-ca622cd3a1b5",
   "metadata": {},
   "source": [
    "<h2>Get the variance of a stock</h2>"
   ]
  },
  {
   "cell_type": "code",
   "execution_count": 18,
   "id": "7e47622f-058b-456c-8526-bd16f533d632",
   "metadata": {},
   "outputs": [
    {
     "name": "stdout",
     "output_type": "stream",
     "text": [
      "Variance:  0.0008542915350884244\n",
      "Annualized Variance :  0.21613575837737137\n"
     ]
    }
   ],
   "source": [
    "print(\"Variance: \", mult_df['NFLX'].var())\n",
    "# in an annualized form\n",
    "days = len(mult_df.index)\n",
    "print(\"Annualized Variance : \", mult_df['NFLX'].var() * days)"
   ]
  },
  {
   "cell_type": "markdown",
   "id": "7749f781-5275-4dc9-a375-bc59343fc39e",
   "metadata": {},
   "source": [
    "<h2>Get Covariance of Stocks</h2>"
   ]
  },
  {
   "cell_type": "code",
   "execution_count": 19,
   "id": "9b8c12be-4818-492d-8a18-4446104a0050",
   "metadata": {},
   "outputs": [
    {
     "data": {
      "text/html": [
       "<div>\n",
       "<style scoped>\n",
       "    .dataframe tbody tr th:only-of-type {\n",
       "        vertical-align: middle;\n",
       "    }\n",
       "\n",
       "    .dataframe tbody tr th {\n",
       "        vertical-align: top;\n",
       "    }\n",
       "\n",
       "    .dataframe thead th {\n",
       "        text-align: right;\n",
       "    }\n",
       "</style>\n",
       "<table border=\"1\" class=\"dataframe\">\n",
       "  <thead>\n",
       "    <tr style=\"text-align: right;\">\n",
       "      <th></th>\n",
       "      <th>FB</th>\n",
       "      <th>NFLX</th>\n",
       "      <th>GOOG</th>\n",
       "      <th>MSFT</th>\n",
       "    </tr>\n",
       "  </thead>\n",
       "  <tbody>\n",
       "    <tr>\n",
       "      <th>FB</th>\n",
       "      <td>0.215868</td>\n",
       "      <td>0.128576</td>\n",
       "      <td>0.145724</td>\n",
       "      <td>0.160259</td>\n",
       "    </tr>\n",
       "    <tr>\n",
       "      <th>NFLX</th>\n",
       "      <td>0.128576</td>\n",
       "      <td>0.216136</td>\n",
       "      <td>0.098242</td>\n",
       "      <td>0.127468</td>\n",
       "    </tr>\n",
       "    <tr>\n",
       "      <th>GOOG</th>\n",
       "      <td>0.145724</td>\n",
       "      <td>0.098242</td>\n",
       "      <td>0.149644</td>\n",
       "      <td>0.147653</td>\n",
       "    </tr>\n",
       "    <tr>\n",
       "      <th>MSFT</th>\n",
       "      <td>0.160259</td>\n",
       "      <td>0.127468</td>\n",
       "      <td>0.147653</td>\n",
       "      <td>0.197069</td>\n",
       "    </tr>\n",
       "  </tbody>\n",
       "</table>\n",
       "</div>"
      ],
      "text/plain": [
       "            FB      NFLX      GOOG      MSFT\n",
       "FB    0.215868  0.128576  0.145724  0.160259\n",
       "NFLX  0.128576  0.216136  0.098242  0.127468\n",
       "GOOG  0.145724  0.098242  0.149644  0.147653\n",
       "MSFT  0.160259  0.127468  0.147653  0.197069"
      ]
     },
     "execution_count": 19,
     "metadata": {},
     "output_type": "execute_result"
    }
   ],
   "source": [
    "mult_df.cov() * 253"
   ]
  },
  {
   "cell_type": "markdown",
   "id": "28b092bc-9884-47e0-b525-2776573abf70",
   "metadata": {},
   "source": [
    "<h2>Calculating a Portfolio's Variance</h2>"
   ]
  },
  {
   "cell_type": "markdown",
   "id": "82690636-a5db-402a-bf13-40989c3fdf30",
   "metadata": {},
   "source": [
    "When calculating the variance of a portfolio, one must establish its weight\n",
    "\n",
    "$w_1,w_2$ = Stock Weights\n",
    "\n",
    "$\\sigma_1,\\sigma_1$ = Stock standard deviations\n",
    "\n",
    "Portfolio Variance = $(w_1\\sigma_1 + w_2\\sigma_2)^{2}$\n",
    "\n",
    "since $(a+b)^{2} = a^{2} + 2ab+ b^{2}$\n",
    "\n",
    "then the portfolio variance is $w_1^{2}\\sigma_1^{2} + 2w_1\\sigma_1w_2\\sigma_2\\rho_{1,2} + w_2^{2}\\sigma_2^{2}$"
   ]
  },
  {
   "cell_type": "code",
   "execution_count": 20,
   "id": "810f0077-aeef-4888-9043-b4b468f4270e",
   "metadata": {},
   "outputs": [
    {
     "name": "stdout",
     "output_type": "stream",
     "text": [
      "Working on :  FB\n",
      "colname daily_return\n",
      "Working on :  NEM\n",
      "colname daily_return\n"
     ]
    },
    {
     "data": {
      "text/html": [
       "<div>\n",
       "<style scoped>\n",
       "    .dataframe tbody tr th:only-of-type {\n",
       "        vertical-align: middle;\n",
       "    }\n",
       "\n",
       "    .dataframe tbody tr th {\n",
       "        vertical-align: top;\n",
       "    }\n",
       "\n",
       "    .dataframe thead th {\n",
       "        text-align: right;\n",
       "    }\n",
       "</style>\n",
       "<table border=\"1\" class=\"dataframe\">\n",
       "  <thead>\n",
       "    <tr style=\"text-align: right;\">\n",
       "      <th></th>\n",
       "      <th>FB</th>\n",
       "      <th>NEM</th>\n",
       "    </tr>\n",
       "  </thead>\n",
       "  <tbody>\n",
       "    <tr>\n",
       "      <th>FB</th>\n",
       "      <td>1.000000</td>\n",
       "      <td>0.186682</td>\n",
       "    </tr>\n",
       "    <tr>\n",
       "      <th>NEM</th>\n",
       "      <td>0.186682</td>\n",
       "      <td>1.000000</td>\n",
       "    </tr>\n",
       "  </tbody>\n",
       "</table>\n",
       "</div>"
      ],
      "text/plain": [
       "           FB       NEM\n",
       "FB   1.000000  0.186682\n",
       "NEM  0.186682  1.000000"
      ]
     },
     "execution_count": 20,
     "metadata": {},
     "output_type": "execute_result"
    }
   ],
   "source": [
    "port_list = [\"FB\",\"NEM\"]\n",
    "port_df = merge_df_by_column_name('daily_return','2020-1-1','2020-12-31',*port_list)\n",
    "\n",
    "port_df\n",
    "\n",
    "port_df.corr()"
   ]
  },
  {
   "cell_type": "code",
   "execution_count": 21,
   "id": "3cede934-b4e8-4dd9-b3f0-4e27c250e217",
   "metadata": {},
   "outputs": [
    {
     "name": "stdout",
     "output_type": "stream",
     "text": [
      "Working on :  FB\n",
      "colname Adj Close\n",
      "Working on :  NEM\n",
      "colname Adj Close\n",
      "Portfolio Variance :  0.12685748050948573\n",
      "FB Variance :  0.21586759061066657\n",
      "NEM Variance :  0.2117209133919327\n"
     ]
    }
   ],
   "source": [
    "price_df = merge_df_by_column_name('Adj Close','2020-1-1','2020-12-31',*port_list)\n",
    "price_df.head()\n",
    "\n",
    "# weight = value of holding over value of all holdings\n",
    "# one share of FB\n",
    "fb_wt = 209.78 / 418.48\n",
    "# 5 shares of WEM\n",
    "new_wt = 208.70 / 418048\n",
    "\n",
    "fb_wt = 0.5012\n",
    "nem_wt = 0.4988\n",
    "wts = np.array([fb_wt,nem_wt])\n",
    "# transpose matrix\n",
    "port_var = np.dot(wts.T, np.dot(port_df.cov() * 253, wts))\n",
    "print(\"Portfolio Variance : \", port_var)\n",
    "print(\"FB Variance : \", port_df['FB'].var()*253)\n",
    "print(\"NEM Variance : \", port_df['NEM'].var()*253)"
   ]
  },
  {
   "cell_type": "markdown",
   "id": "7e85409a-0e32-44fc-af45-7fcb8d46d07e",
   "metadata": {},
   "source": [
    "<h2>All Sectors</h2>"
   ]
  },
  {
   "cell_type": "markdown",
   "id": "079a0731-5b3d-4fa3-81e8-2e91ee0d1223",
   "metadata": {},
   "source": [
    "@TODO Get TEXT LATER"
   ]
  },
  {
   "cell_type": "markdown",
   "id": "9443ea19-f426-4f0b-9e41-a0c3cbc1c5e5",
   "metadata": {},
   "source": [
    "<h2>Get Sector Stocks</h2>"
   ]
  },
  {
   "cell_type": "code",
   "execution_count": 26,
   "id": "9a861735-7db3-4309-8ea1-ac8481c2759e",
   "metadata": {},
   "outputs": [
    {
     "data": {
      "text/html": [
       "<div>\n",
       "<style scoped>\n",
       "    .dataframe tbody tr th:only-of-type {\n",
       "        vertical-align: middle;\n",
       "    }\n",
       "\n",
       "    .dataframe tbody tr th {\n",
       "        vertical-align: top;\n",
       "    }\n",
       "\n",
       "    .dataframe thead th {\n",
       "        text-align: right;\n",
       "    }\n",
       "</style>\n",
       "<table border=\"1\" class=\"dataframe\">\n",
       "  <thead>\n",
       "    <tr style=\"text-align: right;\">\n",
       "      <th></th>\n",
       "      <th>Symbol</th>\n",
       "      <th>Name</th>\n",
       "      <th>Sector</th>\n",
       "    </tr>\n",
       "  </thead>\n",
       "  <tbody>\n",
       "    <tr>\n",
       "      <th>0</th>\n",
       "      <td>MMM</td>\n",
       "      <td>3M</td>\n",
       "      <td>Industrials</td>\n",
       "    </tr>\n",
       "    <tr>\n",
       "      <th>1</th>\n",
       "      <td>AOS</td>\n",
       "      <td>A. O. Smith</td>\n",
       "      <td>Industrials</td>\n",
       "    </tr>\n",
       "    <tr>\n",
       "      <th>2</th>\n",
       "      <td>ABT</td>\n",
       "      <td>Abbott Laboratories</td>\n",
       "      <td>Health Care</td>\n",
       "    </tr>\n",
       "    <tr>\n",
       "      <th>3</th>\n",
       "      <td>ABBV</td>\n",
       "      <td>AbbVie</td>\n",
       "      <td>Health Care</td>\n",
       "    </tr>\n",
       "    <tr>\n",
       "      <th>4</th>\n",
       "      <td>ABMD</td>\n",
       "      <td>Abiomed</td>\n",
       "      <td>Health Care</td>\n",
       "    </tr>\n",
       "    <tr>\n",
       "      <th>...</th>\n",
       "      <td>...</td>\n",
       "      <td>...</td>\n",
       "      <td>...</td>\n",
       "    </tr>\n",
       "    <tr>\n",
       "      <th>500</th>\n",
       "      <td>YUM</td>\n",
       "      <td>Yum! Brands</td>\n",
       "      <td>Consumer Discretionary</td>\n",
       "    </tr>\n",
       "    <tr>\n",
       "      <th>501</th>\n",
       "      <td>ZBRA</td>\n",
       "      <td>Zebra Technologies</td>\n",
       "      <td>Information Technology</td>\n",
       "    </tr>\n",
       "    <tr>\n",
       "      <th>502</th>\n",
       "      <td>ZBH</td>\n",
       "      <td>Zimmer Biomet</td>\n",
       "      <td>Health Care</td>\n",
       "    </tr>\n",
       "    <tr>\n",
       "      <th>503</th>\n",
       "      <td>ZION</td>\n",
       "      <td>Zions Bancorp</td>\n",
       "      <td>Financials</td>\n",
       "    </tr>\n",
       "    <tr>\n",
       "      <th>504</th>\n",
       "      <td>ZTS</td>\n",
       "      <td>Zoetis</td>\n",
       "      <td>Health Care</td>\n",
       "    </tr>\n",
       "  </tbody>\n",
       "</table>\n",
       "<p>505 rows × 3 columns</p>\n",
       "</div>"
      ],
      "text/plain": [
       "    Symbol                 Name                  Sector\n",
       "0      MMM                   3M             Industrials\n",
       "1      AOS          A. O. Smith             Industrials\n",
       "2      ABT  Abbott Laboratories             Health Care\n",
       "3     ABBV               AbbVie             Health Care\n",
       "4     ABMD              Abiomed             Health Care\n",
       "..     ...                  ...                     ...\n",
       "500    YUM          Yum! Brands  Consumer Discretionary\n",
       "501   ZBRA   Zebra Technologies  Information Technology\n",
       "502    ZBH        Zimmer Biomet             Health Care\n",
       "503   ZION        Zions Bancorp              Financials\n",
       "504    ZTS               Zoetis             Health Care\n",
       "\n",
       "[505 rows x 3 columns]"
      ]
     },
     "execution_count": 26,
     "metadata": {},
     "output_type": "execute_result"
    }
   ],
   "source": [
    "sec_df = pd.read_csv(\"C:/Users/Zak/Documents/Programming/Data_Science/Finance/finance_course/stock_sectors/stock_sectors.csv\")\n",
    "sec_df"
   ]
  },
  {
   "cell_type": "code",
   "execution_count": 28,
   "id": "7338e364-02a3-4bab-9448-1bdfac095374",
   "metadata": {},
   "outputs": [],
   "source": [
    "indus_df = sec_df.loc[sec_df['Sector'] == 'Industrials']\n",
    "health_df = sec_df.loc[sec_df['Sector'] == \"Health Care\"]\n",
    "it_df = sec_df.loc[sec_df['Sector'] == \"Information Technology\"]\n",
    "comm_df = sec_df.loc[sec_df['Sector'] == \"Communication Services\"]\n",
    "staple_df = sec_df.loc[sec_df['Sector'] == \"Consumer Staples\"]\n",
    "discretion_df = sec_df.loc[sec_df['Sector'] == \"Consumer Discretionary\"]\n",
    "utility_df = sec_df.loc[sec_df['Sector'] == \"Utilities\"]\n",
    "financial_df = sec_df.loc[sec_df['Sector'] == \"Financials\"]\n",
    "material_df = sec_df.loc[sec_df['Sector'] == \"Materials\"]\n",
    "restate_df = sec_df.loc[sec_df['Sector'] == \"Real Estate\"]\n",
    "energy_df = sec_df.loc[sec_df['Sector'] == \"Energy\"]"
   ]
  },
  {
   "cell_type": "markdown",
   "id": "01a94b77-3613-4a8b-afdd-23fcd0d7d9c2",
   "metadata": {},
   "source": [
    "<h2>Return a DataFrame with en ROI for all stocks</h2>"
   ]
  },
  {
   "cell_type": "code",
   "execution_count": 44,
   "id": "e22857f9-de2d-4b3e-94e8-03ae55b8cf01",
   "metadata": {},
   "outputs": [],
   "source": [
    "def get_rois_for_stocks(stocks_df, sdate, edate):\n",
    "    tickers = []\n",
    "    rois = []\n",
    "    for index, row in stocks_df.iterrows():\n",
    "        df = get_df_from_csv(row['Symbol'])\n",
    "        # check if the tickers exists for that specific DF\n",
    "        if df is None:\n",
    "            pass\n",
    "        else:\n",
    "            tickers.append(row['Symbol'])\n",
    "            # TODO remove dates from hardcoding and include in the function parameters\n",
    "            sdatef, edatef = get_valid_dates(df, sdate, edate)\n",
    "            df = df.set_index(['Date'])\n",
    "            roi = roi_between_dates(df, sdatef, edatef)\n",
    "            rois.append(roi)\n",
    "            \n",
    "    return pd.DataFrame({'Ticker': tickers, 'ROI': rois})"
   ]
  },
  {
   "cell_type": "code",
   "execution_count": null,
   "id": "8543bd53-611c-4988-b261-59d795510dc1",
   "metadata": {
    "scrolled": true,
    "tags": []
   },
   "outputs": [
    {
     "name": "stdout",
     "output_type": "stream",
     "text": [
      "File Doesn't exist\n",
      "File Doesn't exist\n",
      "File Doesn't exist\n",
      "File Doesn't exist\n",
      "File Doesn't exist\n",
      "File Doesn't exist\n",
      "File Doesn't exist\n",
      "File Doesn't exist\n",
      "File Doesn't exist\n",
      "File Doesn't exist\n",
      "File Doesn't exist\n",
      "File Doesn't exist\n",
      "File Doesn't exist\n",
      "File Doesn't exist\n",
      "File Doesn't exist\n",
      "File Doesn't exist\n",
      "File Doesn't exist\n",
      "File Doesn't exist\n",
      "File Doesn't exist\n",
      "File Doesn't exist\n",
      "File Doesn't exist\n",
      "File Doesn't exist\n",
      "File Doesn't exist\n",
      "File Doesn't exist\n",
      "File Doesn't exist\n",
      "File Doesn't exist\n",
      "File Doesn't exist\n"
     ]
    }
   ],
   "source": [
    "industrial = get_rois_for_stocks(indus_df, '2018-01-01', '2020-12-31')\n",
    "health_care = get_rois_for_stocks(health_df, '2018-01-01', '2020-12-31')\n",
    "it = get_rois_for_stocks(it_df, '2018-01-01', '2020-12-31')\n",
    "commun = get_rois_for_stocks(comm_df, '2018-01-01', '2020-12-31')\n",
    "staple = get_rois_for_stocks(staple_df, '2018-01-01', '2020-12-31')\n",
    "discretion = get_rois_for_stocks(discretion_df, '2018-01-01', '2020-12-31')\n",
    "utility = get_rois_for_stocks(utility_df, '2018-01-01', '2020-12-31')\n",
    "finance = get_rois_for_stocks(financial_df, '2018-01-01', '2020-12-31')\n",
    "material = get_rois_for_stocks(material_df, '2018-01-01', '2020-12-31')\n",
    "restate = get_rois_for_stocks(restate_df, '2018-01-01', '2020-12-31')\n",
    "energy = get_rois_for_stocks(energy_df, '2018-01-01', '2020-12-31')"
   ]
  },
  {
   "cell_type": "markdown",
   "id": "fc9bb2d7-c9af-48ff-9d79-c073a38c5394",
   "metadata": {},
   "source": [
    "<h2>Top Industrials</h2>"
   ]
  },
  {
   "cell_type": "code",
   "execution_count": 48,
   "id": "191025e2-fba0-4e3d-bb8e-8e87d8d1bdb8",
   "metadata": {},
   "outputs": [
    {
     "data": {
      "text/html": [
       "<div>\n",
       "<style scoped>\n",
       "    .dataframe tbody tr th:only-of-type {\n",
       "        vertical-align: middle;\n",
       "    }\n",
       "\n",
       "    .dataframe tbody tr th {\n",
       "        vertical-align: top;\n",
       "    }\n",
       "\n",
       "    .dataframe thead th {\n",
       "        text-align: right;\n",
       "    }\n",
       "</style>\n",
       "<table border=\"1\" class=\"dataframe\">\n",
       "  <thead>\n",
       "    <tr style=\"text-align: right;\">\n",
       "      <th></th>\n",
       "      <th>Ticker</th>\n",
       "      <th>ROI</th>\n",
       "    </tr>\n",
       "  </thead>\n",
       "  <tbody>\n",
       "    <tr>\n",
       "      <th>24</th>\n",
       "      <td>GNRC</td>\n",
       "      <td>3.734749</td>\n",
       "    </tr>\n",
       "    <tr>\n",
       "      <th>10</th>\n",
       "      <td>CPRT</td>\n",
       "      <td>1.918578</td>\n",
       "    </tr>\n",
       "    <tr>\n",
       "      <th>57</th>\n",
       "      <td>TDG</td>\n",
       "      <td>1.518984</td>\n",
       "    </tr>\n",
       "    <tr>\n",
       "      <th>9</th>\n",
       "      <td>CTAS</td>\n",
       "      <td>1.325593</td>\n",
       "    </tr>\n",
       "    <tr>\n",
       "      <th>42</th>\n",
       "      <td>ODFL</td>\n",
       "      <td>1.202971</td>\n",
       "    </tr>\n",
       "  </tbody>\n",
       "</table>\n",
       "</div>"
      ],
      "text/plain": [
       "   Ticker       ROI\n",
       "24   GNRC  3.734749\n",
       "10   CPRT  1.918578\n",
       "57    TDG  1.518984\n",
       "9    CTAS  1.325593\n",
       "42   ODFL  1.202971"
      ]
     },
     "execution_count": 48,
     "metadata": {},
     "output_type": "execute_result"
    }
   ],
   "source": [
    "industrial.sort_values(by=['ROI'], ascending = False).head(5)"
   ]
  },
  {
   "cell_type": "markdown",
   "id": "383909e4-8a7d-4412-9575-992a884caf8d",
   "metadata": {},
   "source": [
    "<h2>Top Healthcare</h2>"
   ]
  },
  {
   "cell_type": "code",
   "execution_count": 49,
   "id": "6b078fe7-ef22-464d-9df7-6e2f85fcdff8",
   "metadata": {},
   "outputs": [
    {
     "data": {
      "text/html": [
       "<div>\n",
       "<style scoped>\n",
       "    .dataframe tbody tr th:only-of-type {\n",
       "        vertical-align: middle;\n",
       "    }\n",
       "\n",
       "    .dataframe tbody tr th {\n",
       "        vertical-align: top;\n",
       "    }\n",
       "\n",
       "    .dataframe thead th {\n",
       "        text-align: right;\n",
       "    }\n",
       "</style>\n",
       "<table border=\"1\" class=\"dataframe\">\n",
       "  <thead>\n",
       "    <tr style=\"text-align: right;\">\n",
       "      <th></th>\n",
       "      <th>Ticker</th>\n",
       "      <th>ROI</th>\n",
       "    </tr>\n",
       "  </thead>\n",
       "  <tbody>\n",
       "    <tr>\n",
       "      <th>24</th>\n",
       "      <td>DXCM</td>\n",
       "      <td>5.375582</td>\n",
       "    </tr>\n",
       "    <tr>\n",
       "      <th>32</th>\n",
       "      <td>IDXX</td>\n",
       "      <td>2.167543</td>\n",
       "    </tr>\n",
       "    <tr>\n",
       "      <th>58</th>\n",
       "      <td>WST</td>\n",
       "      <td>1.887307</td>\n",
       "    </tr>\n",
       "    <tr>\n",
       "      <th>48</th>\n",
       "      <td>RMD</td>\n",
       "      <td>1.575014</td>\n",
       "    </tr>\n",
       "    <tr>\n",
       "      <th>15</th>\n",
       "      <td>CTLT</td>\n",
       "      <td>1.475499</td>\n",
       "    </tr>\n",
       "  </tbody>\n",
       "</table>\n",
       "</div>"
      ],
      "text/plain": [
       "   Ticker       ROI\n",
       "24   DXCM  5.375582\n",
       "32   IDXX  2.167543\n",
       "58    WST  1.887307\n",
       "48    RMD  1.575014\n",
       "15   CTLT  1.475499"
      ]
     },
     "execution_count": 49,
     "metadata": {},
     "output_type": "execute_result"
    }
   ],
   "source": [
    "health_care.sort_values(by=['ROI'], ascending = False).head(5)"
   ]
  },
  {
   "cell_type": "markdown",
   "id": "c36c3b6c-722b-4da2-9396-c632888ade53",
   "metadata": {},
   "source": [
    "<h2>Top Information Technologies</h2>"
   ]
  },
  {
   "cell_type": "code",
   "execution_count": 50,
   "id": "4d3a7ddd-36f3-4b03-90ef-363c9375302b",
   "metadata": {},
   "outputs": [
    {
     "data": {
      "text/html": [
       "<div>\n",
       "<style scoped>\n",
       "    .dataframe tbody tr th:only-of-type {\n",
       "        vertical-align: middle;\n",
       "    }\n",
       "\n",
       "    .dataframe tbody tr th {\n",
       "        vertical-align: top;\n",
       "    }\n",
       "\n",
       "    .dataframe thead th {\n",
       "        text-align: right;\n",
       "    }\n",
       "</style>\n",
       "<table border=\"1\" class=\"dataframe\">\n",
       "  <thead>\n",
       "    <tr style=\"text-align: right;\">\n",
       "      <th></th>\n",
       "      <th>Ticker</th>\n",
       "      <th>ROI</th>\n",
       "    </tr>\n",
       "  </thead>\n",
       "  <tbody>\n",
       "    <tr>\n",
       "      <th>21</th>\n",
       "      <td>ENPH</td>\n",
       "      <td>66.488464</td>\n",
       "    </tr>\n",
       "    <tr>\n",
       "      <th>2</th>\n",
       "      <td>AMD</td>\n",
       "      <td>7.352459</td>\n",
       "    </tr>\n",
       "    <tr>\n",
       "      <th>50</th>\n",
       "      <td>PAYC</td>\n",
       "      <td>4.622203</td>\n",
       "    </tr>\n",
       "    <tr>\n",
       "      <th>57</th>\n",
       "      <td>NOW</td>\n",
       "      <td>3.178471</td>\n",
       "    </tr>\n",
       "    <tr>\n",
       "      <th>70</th>\n",
       "      <td>ZBRA</td>\n",
       "      <td>2.705814</td>\n",
       "    </tr>\n",
       "  </tbody>\n",
       "</table>\n",
       "</div>"
      ],
      "text/plain": [
       "   Ticker        ROI\n",
       "21   ENPH  66.488464\n",
       "2     AMD   7.352459\n",
       "50   PAYC   4.622203\n",
       "57    NOW   3.178471\n",
       "70   ZBRA   2.705814"
      ]
     },
     "execution_count": 50,
     "metadata": {},
     "output_type": "execute_result"
    }
   ],
   "source": [
    "it.sort_values(by=['ROI'], ascending = False).head(5)"
   ]
  },
  {
   "cell_type": "markdown",
   "id": "2dc5086e-00c9-4bf2-bce6-7cdab8964368",
   "metadata": {},
   "source": [
    "<h2>Top Communications</h2>"
   ]
  },
  {
   "cell_type": "code",
   "execution_count": 51,
   "id": "c13881ea-172b-4d17-abfe-7934f756774a",
   "metadata": {},
   "outputs": [
    {
     "data": {
      "text/html": [
       "<div>\n",
       "<style scoped>\n",
       "    .dataframe tbody tr th:only-of-type {\n",
       "        vertical-align: middle;\n",
       "    }\n",
       "\n",
       "    .dataframe tbody tr th {\n",
       "        vertical-align: top;\n",
       "    }\n",
       "\n",
       "    .dataframe thead th {\n",
       "        text-align: right;\n",
       "    }\n",
       "</style>\n",
       "<table border=\"1\" class=\"dataframe\">\n",
       "  <thead>\n",
       "    <tr style=\"text-align: right;\">\n",
       "      <th></th>\n",
       "      <th>Ticker</th>\n",
       "      <th>ROI</th>\n",
       "    </tr>\n",
       "  </thead>\n",
       "  <tbody>\n",
       "    <tr>\n",
       "      <th>13</th>\n",
       "      <td>NFLX</td>\n",
       "      <td>1.689262</td>\n",
       "    </tr>\n",
       "    <tr>\n",
       "      <th>20</th>\n",
       "      <td>TWTR</td>\n",
       "      <td>1.209302</td>\n",
       "    </tr>\n",
       "    <tr>\n",
       "      <th>17</th>\n",
       "      <td>TMUS</td>\n",
       "      <td>1.105715</td>\n",
       "    </tr>\n",
       "    <tr>\n",
       "      <th>4</th>\n",
       "      <td>CHTR</td>\n",
       "      <td>0.895722</td>\n",
       "    </tr>\n",
       "    <tr>\n",
       "      <th>18</th>\n",
       "      <td>TTWO</td>\n",
       "      <td>0.840804</td>\n",
       "    </tr>\n",
       "  </tbody>\n",
       "</table>\n",
       "</div>"
      ],
      "text/plain": [
       "   Ticker       ROI\n",
       "13   NFLX  1.689262\n",
       "20   TWTR  1.209302\n",
       "17   TMUS  1.105715\n",
       "4    CHTR  0.895722\n",
       "18   TTWO  0.840804"
      ]
     },
     "execution_count": 51,
     "metadata": {},
     "output_type": "execute_result"
    }
   ],
   "source": [
    "commun.sort_values(by=['ROI'], ascending = False).head(5)"
   ]
  },
  {
   "cell_type": "markdown",
   "id": "5f1c7621-bf6b-4c86-b91b-6b3459d423d0",
   "metadata": {},
   "source": [
    "<h2>Top Staples</h2>"
   ]
  },
  {
   "cell_type": "code",
   "execution_count": 52,
   "id": "2b54a17a-9934-4647-b999-0e04f6875d74",
   "metadata": {},
   "outputs": [
    {
     "data": {
      "text/html": [
       "<div>\n",
       "<style scoped>\n",
       "    .dataframe tbody tr th:only-of-type {\n",
       "        vertical-align: middle;\n",
       "    }\n",
       "\n",
       "    .dataframe tbody tr th {\n",
       "        vertical-align: top;\n",
       "    }\n",
       "\n",
       "    .dataframe thead th {\n",
       "        text-align: right;\n",
       "    }\n",
       "</style>\n",
       "<table border=\"1\" class=\"dataframe\">\n",
       "  <thead>\n",
       "    <tr style=\"text-align: right;\">\n",
       "      <th></th>\n",
       "      <th>Ticker</th>\n",
       "      <th>ROI</th>\n",
       "    </tr>\n",
       "  </thead>\n",
       "  <tbody>\n",
       "    <tr>\n",
       "      <th>10</th>\n",
       "      <td>EL</td>\n",
       "      <td>1.145196</td>\n",
       "    </tr>\n",
       "    <tr>\n",
       "      <th>9</th>\n",
       "      <td>COST</td>\n",
       "      <td>1.112863</td>\n",
       "    </tr>\n",
       "    <tr>\n",
       "      <th>19</th>\n",
       "      <td>MKC</td>\n",
       "      <td>0.977708</td>\n",
       "    </tr>\n",
       "    <tr>\n",
       "      <th>3</th>\n",
       "      <td>CHD</td>\n",
       "      <td>0.838448</td>\n",
       "    </tr>\n",
       "    <tr>\n",
       "      <th>25</th>\n",
       "      <td>PG</td>\n",
       "      <td>0.674050</td>\n",
       "    </tr>\n",
       "  </tbody>\n",
       "</table>\n",
       "</div>"
      ],
      "text/plain": [
       "   Ticker       ROI\n",
       "10     EL  1.145196\n",
       "9    COST  1.112863\n",
       "19    MKC  0.977708\n",
       "3     CHD  0.838448\n",
       "25     PG  0.674050"
      ]
     },
     "execution_count": 52,
     "metadata": {},
     "output_type": "execute_result"
    }
   ],
   "source": [
    "staple.sort_values(by=['ROI'], ascending = False).head(5)"
   ]
  },
  {
   "cell_type": "markdown",
   "id": "be5b10ea-d0d6-4a41-bc7f-c1238f4528a8",
   "metadata": {},
   "source": [
    "<h2>Top Discretionary</h2>"
   ]
  },
  {
   "cell_type": "code",
   "execution_count": 53,
   "id": "8ef2a788-c853-43f7-b8e9-827b52292bdb",
   "metadata": {},
   "outputs": [
    {
     "data": {
      "text/html": [
       "<div>\n",
       "<style scoped>\n",
       "    .dataframe tbody tr th:only-of-type {\n",
       "        vertical-align: middle;\n",
       "    }\n",
       "\n",
       "    .dataframe tbody tr th {\n",
       "        vertical-align: top;\n",
       "    }\n",
       "\n",
       "    .dataframe thead th {\n",
       "        text-align: right;\n",
       "    }\n",
       "</style>\n",
       "<table border=\"1\" class=\"dataframe\">\n",
       "  <thead>\n",
       "    <tr style=\"text-align: right;\">\n",
       "      <th></th>\n",
       "      <th>Ticker</th>\n",
       "      <th>ROI</th>\n",
       "    </tr>\n",
       "  </thead>\n",
       "  <tbody>\n",
       "    <tr>\n",
       "      <th>52</th>\n",
       "      <td>TSLA</td>\n",
       "      <td>10.007861</td>\n",
       "    </tr>\n",
       "    <tr>\n",
       "      <th>17</th>\n",
       "      <td>ETSY</td>\n",
       "      <td>7.541047</td>\n",
       "    </tr>\n",
       "    <tr>\n",
       "      <th>10</th>\n",
       "      <td>CMG</td>\n",
       "      <td>3.733606</td>\n",
       "    </tr>\n",
       "    <tr>\n",
       "      <th>43</th>\n",
       "      <td>POOL</td>\n",
       "      <td>1.931030</td>\n",
       "    </tr>\n",
       "    <tr>\n",
       "      <th>51</th>\n",
       "      <td>TGT</td>\n",
       "      <td>1.839621</td>\n",
       "    </tr>\n",
       "  </tbody>\n",
       "</table>\n",
       "</div>"
      ],
      "text/plain": [
       "   Ticker        ROI\n",
       "52   TSLA  10.007861\n",
       "17   ETSY   7.541047\n",
       "10    CMG   3.733606\n",
       "43   POOL   1.931030\n",
       "51    TGT   1.839621"
      ]
     },
     "execution_count": 53,
     "metadata": {},
     "output_type": "execute_result"
    }
   ],
   "source": [
    "discretion.sort_values(by=['ROI'], ascending = False).head(5)"
   ]
  },
  {
   "cell_type": "markdown",
   "id": "cfd8568b-d347-4e9c-8942-4bc75d1ec23f",
   "metadata": {},
   "source": [
    "<h2>Top Utilities</h2>"
   ]
  },
  {
   "cell_type": "code",
   "execution_count": 55,
   "id": "df4166f5-179e-4282-8aa4-949eee465f99",
   "metadata": {},
   "outputs": [
    {
     "data": {
      "text/html": [
       "<div>\n",
       "<style scoped>\n",
       "    .dataframe tbody tr th:only-of-type {\n",
       "        vertical-align: middle;\n",
       "    }\n",
       "\n",
       "    .dataframe tbody tr th {\n",
       "        vertical-align: top;\n",
       "    }\n",
       "\n",
       "    .dataframe thead th {\n",
       "        text-align: right;\n",
       "    }\n",
       "</style>\n",
       "<table border=\"1\" class=\"dataframe\">\n",
       "  <thead>\n",
       "    <tr style=\"text-align: right;\">\n",
       "      <th></th>\n",
       "      <th>Ticker</th>\n",
       "      <th>ROI</th>\n",
       "    </tr>\n",
       "  </thead>\n",
       "  <tbody>\n",
       "    <tr>\n",
       "      <th>0</th>\n",
       "      <td>AES</td>\n",
       "      <td>1.402997</td>\n",
       "    </tr>\n",
       "    <tr>\n",
       "      <th>18</th>\n",
       "      <td>NEE</td>\n",
       "      <td>1.136332</td>\n",
       "    </tr>\n",
       "    <tr>\n",
       "      <th>4</th>\n",
       "      <td>AWK</td>\n",
       "      <td>0.819223</td>\n",
       "    </tr>\n",
       "    <tr>\n",
       "      <th>26</th>\n",
       "      <td>WEC</td>\n",
       "      <td>0.530405</td>\n",
       "    </tr>\n",
       "    <tr>\n",
       "      <th>27</th>\n",
       "      <td>XEL</td>\n",
       "      <td>0.519897</td>\n",
       "    </tr>\n",
       "  </tbody>\n",
       "</table>\n",
       "</div>"
      ],
      "text/plain": [
       "   Ticker       ROI\n",
       "0     AES  1.402997\n",
       "18    NEE  1.136332\n",
       "4     AWK  0.819223\n",
       "26    WEC  0.530405\n",
       "27    XEL  0.519897"
      ]
     },
     "execution_count": 55,
     "metadata": {},
     "output_type": "execute_result"
    }
   ],
   "source": [
    "utility.sort_values(by=['ROI'], ascending = False).head(5)"
   ]
  },
  {
   "cell_type": "markdown",
   "id": "1625b06e-a1c8-4374-9a83-8954ac79803e",
   "metadata": {},
   "source": [
    "<h2>Top Finance</h2>"
   ]
  },
  {
   "cell_type": "code",
   "execution_count": 56,
   "id": "bd3e4be1-13fb-46ca-80b8-26fd11b5fc70",
   "metadata": {},
   "outputs": [
    {
     "data": {
      "text/html": [
       "<div>\n",
       "<style scoped>\n",
       "    .dataframe tbody tr th:only-of-type {\n",
       "        vertical-align: middle;\n",
       "    }\n",
       "\n",
       "    .dataframe tbody tr th {\n",
       "        vertical-align: top;\n",
       "    }\n",
       "\n",
       "    .dataframe thead th {\n",
       "        text-align: right;\n",
       "    }\n",
       "</style>\n",
       "<table border=\"1\" class=\"dataframe\">\n",
       "  <thead>\n",
       "    <tr style=\"text-align: right;\">\n",
       "      <th></th>\n",
       "      <th>Ticker</th>\n",
       "      <th>ROI</th>\n",
       "    </tr>\n",
       "  </thead>\n",
       "  <tbody>\n",
       "    <tr>\n",
       "      <th>39</th>\n",
       "      <td>MSCI</td>\n",
       "      <td>2.612068</td>\n",
       "    </tr>\n",
       "    <tr>\n",
       "      <th>34</th>\n",
       "      <td>MKTX</td>\n",
       "      <td>1.860333</td>\n",
       "    </tr>\n",
       "    <tr>\n",
       "      <th>6</th>\n",
       "      <td>AJG</td>\n",
       "      <td>1.112315</td>\n",
       "    </tr>\n",
       "    <tr>\n",
       "      <th>37</th>\n",
       "      <td>MCO</td>\n",
       "      <td>1.044882</td>\n",
       "    </tr>\n",
       "    <tr>\n",
       "      <th>49</th>\n",
       "      <td>SPGI</td>\n",
       "      <td>1.012123</td>\n",
       "    </tr>\n",
       "  </tbody>\n",
       "</table>\n",
       "</div>"
      ],
      "text/plain": [
       "   Ticker       ROI\n",
       "39   MSCI  2.612068\n",
       "34   MKTX  1.860333\n",
       "6     AJG  1.112315\n",
       "37    MCO  1.044882\n",
       "49   SPGI  1.012123"
      ]
     },
     "execution_count": 56,
     "metadata": {},
     "output_type": "execute_result"
    }
   ],
   "source": [
    "finance.sort_values(by=['ROI'], ascending = False).head(5)"
   ]
  },
  {
   "cell_type": "markdown",
   "id": "bda7521d-280a-4ea3-9841-53309a33ce14",
   "metadata": {},
   "source": [
    "<h2>Top Materials</h2>"
   ]
  },
  {
   "cell_type": "code",
   "execution_count": 57,
   "id": "6b390628-5091-473a-895c-3762f91ef133",
   "metadata": {},
   "outputs": [
    {
     "data": {
      "text/html": [
       "<div>\n",
       "<style scoped>\n",
       "    .dataframe tbody tr th:only-of-type {\n",
       "        vertical-align: middle;\n",
       "    }\n",
       "\n",
       "    .dataframe tbody tr th {\n",
       "        vertical-align: top;\n",
       "    }\n",
       "\n",
       "    .dataframe thead th {\n",
       "        text-align: right;\n",
       "    }\n",
       "</style>\n",
       "<table border=\"1\" class=\"dataframe\">\n",
       "  <thead>\n",
       "    <tr style=\"text-align: right;\">\n",
       "      <th></th>\n",
       "      <th>Ticker</th>\n",
       "      <th>ROI</th>\n",
       "    </tr>\n",
       "  </thead>\n",
       "  <tbody>\n",
       "    <tr>\n",
       "      <th>3</th>\n",
       "      <td>BLL</td>\n",
       "      <td>1.474668</td>\n",
       "    </tr>\n",
       "    <tr>\n",
       "      <th>21</th>\n",
       "      <td>SHW</td>\n",
       "      <td>0.824243</td>\n",
       "    </tr>\n",
       "    <tr>\n",
       "      <th>13</th>\n",
       "      <td>LIN</td>\n",
       "      <td>0.785525</td>\n",
       "    </tr>\n",
       "    <tr>\n",
       "      <th>0</th>\n",
       "      <td>APD</td>\n",
       "      <td>0.771644</td>\n",
       "    </tr>\n",
       "    <tr>\n",
       "      <th>16</th>\n",
       "      <td>NEM</td>\n",
       "      <td>0.689577</td>\n",
       "    </tr>\n",
       "  </tbody>\n",
       "</table>\n",
       "</div>"
      ],
      "text/plain": [
       "   Ticker       ROI\n",
       "3     BLL  1.474668\n",
       "21    SHW  0.824243\n",
       "13    LIN  0.785525\n",
       "0     APD  0.771644\n",
       "16    NEM  0.689577"
      ]
     },
     "execution_count": 57,
     "metadata": {},
     "output_type": "execute_result"
    }
   ],
   "source": [
    "material.sort_values(by=['ROI'], ascending = False).head(5)"
   ]
  },
  {
   "cell_type": "markdown",
   "id": "958a72b7-7f92-4fde-b34d-6419968a3049",
   "metadata": {},
   "source": [
    "<h2>Top Real Estate</h2>"
   ]
  },
  {
   "cell_type": "code",
   "execution_count": 58,
   "id": "794d487f-d95f-431a-8960-3a93169b9d97",
   "metadata": {},
   "outputs": [
    {
     "data": {
      "text/html": [
       "<div>\n",
       "<style scoped>\n",
       "    .dataframe tbody tr th:only-of-type {\n",
       "        vertical-align: middle;\n",
       "    }\n",
       "\n",
       "    .dataframe tbody tr th {\n",
       "        vertical-align: top;\n",
       "    }\n",
       "\n",
       "    .dataframe thead th {\n",
       "        text-align: right;\n",
       "    }\n",
       "</style>\n",
       "<table border=\"1\" class=\"dataframe\">\n",
       "  <thead>\n",
       "    <tr style=\"text-align: right;\">\n",
       "      <th></th>\n",
       "      <th>Ticker</th>\n",
       "      <th>ROI</th>\n",
       "    </tr>\n",
       "  </thead>\n",
       "  <tbody>\n",
       "    <tr>\n",
       "      <th>21</th>\n",
       "      <td>SBAC</td>\n",
       "      <td>0.772695</td>\n",
       "    </tr>\n",
       "    <tr>\n",
       "      <th>8</th>\n",
       "      <td>EQIX</td>\n",
       "      <td>0.692928</td>\n",
       "    </tr>\n",
       "    <tr>\n",
       "      <th>17</th>\n",
       "      <td>PLD</td>\n",
       "      <td>0.689758</td>\n",
       "    </tr>\n",
       "    <tr>\n",
       "      <th>1</th>\n",
       "      <td>AMT</td>\n",
       "      <td>0.685782</td>\n",
       "    </tr>\n",
       "    <tr>\n",
       "      <th>5</th>\n",
       "      <td>CCI</td>\n",
       "      <td>0.622156</td>\n",
       "    </tr>\n",
       "  </tbody>\n",
       "</table>\n",
       "</div>"
      ],
      "text/plain": [
       "   Ticker       ROI\n",
       "21   SBAC  0.772695\n",
       "8    EQIX  0.692928\n",
       "17    PLD  0.689758\n",
       "1     AMT  0.685782\n",
       "5     CCI  0.622156"
      ]
     },
     "execution_count": 58,
     "metadata": {},
     "output_type": "execute_result"
    }
   ],
   "source": [
    "restate.sort_values(by=['ROI'], ascending = False).head(5)"
   ]
  },
  {
   "cell_type": "markdown",
   "id": "bac9f7a4-c931-4458-9ed5-cbabb2fbcdba",
   "metadata": {},
   "source": [
    "<h2>Top Energy</h2>"
   ]
  },
  {
   "cell_type": "code",
   "execution_count": 59,
   "id": "7fbaa38b-ef3f-47c0-96c2-543a35ad4a3b",
   "metadata": {},
   "outputs": [
    {
     "data": {
      "text/html": [
       "<div>\n",
       "<style scoped>\n",
       "    .dataframe tbody tr th:only-of-type {\n",
       "        vertical-align: middle;\n",
       "    }\n",
       "\n",
       "    .dataframe tbody tr th {\n",
       "        vertical-align: top;\n",
       "    }\n",
       "\n",
       "    .dataframe thead th {\n",
       "        text-align: right;\n",
       "    }\n",
       "</style>\n",
       "<table border=\"1\" class=\"dataframe\">\n",
       "  <thead>\n",
       "    <tr style=\"text-align: right;\">\n",
       "      <th></th>\n",
       "      <th>Ticker</th>\n",
       "      <th>ROI</th>\n",
       "    </tr>\n",
       "  </thead>\n",
       "  <tbody>\n",
       "    <tr>\n",
       "      <th>9</th>\n",
       "      <td>HES</td>\n",
       "      <td>0.168441</td>\n",
       "    </tr>\n",
       "    <tr>\n",
       "      <th>15</th>\n",
       "      <td>OKE</td>\n",
       "      <td>-0.131482</td>\n",
       "    </tr>\n",
       "    <tr>\n",
       "      <th>10</th>\n",
       "      <td>KMI</td>\n",
       "      <td>-0.146362</td>\n",
       "    </tr>\n",
       "    <tr>\n",
       "      <th>3</th>\n",
       "      <td>COP</td>\n",
       "      <td>-0.217487</td>\n",
       "    </tr>\n",
       "    <tr>\n",
       "      <th>20</th>\n",
       "      <td>WMB</td>\n",
       "      <td>-0.218709</td>\n",
       "    </tr>\n",
       "  </tbody>\n",
       "</table>\n",
       "</div>"
      ],
      "text/plain": [
       "   Ticker       ROI\n",
       "9     HES  0.168441\n",
       "15    OKE -0.131482\n",
       "10    KMI -0.146362\n",
       "3     COP -0.217487\n",
       "20    WMB -0.218709"
      ]
     },
     "execution_count": 59,
     "metadata": {},
     "output_type": "execute_result"
    }
   ],
   "source": [
    "energy.sort_values(by=['ROI'], ascending = False).head(5)"
   ]
  },
  {
   "cell_type": "markdown",
   "id": "8be5d602-c2b3-4d0b-85b8-d562afb14568",
   "metadata": {},
   "source": [
    "<h2>Portfolio List</h2>"
   ]
  },
  {
   "cell_type": "code",
   "execution_count": 60,
   "id": "6b855205-ebbd-49f2-b346-406cefa96653",
   "metadata": {},
   "outputs": [],
   "source": [
    "port_list = [\"GNRC\", \"DXCM\", \"AMD\", \"NFLX\", \"COST\", \"TGT\", \"AES\", \"MSCI\", \"NEM\", \"SBAC\", \"HES\"]"
   ]
  },
  {
   "cell_type": "markdown",
   "id": "3ffd5fb3-e790-47b2-94ce-6eafcb82bdc3",
   "metadata": {},
   "source": [
    "<h2>Check for Correlation</h2>"
   ]
  },
  {
   "cell_type": "code",
   "execution_count": 61,
   "id": "f36a49fb-6896-4a79-b75f-b29953e62269",
   "metadata": {},
   "outputs": [
    {
     "name": "stdout",
     "output_type": "stream",
     "text": [
      "Working on :  GNRC\n",
      "colname daily_return\n",
      "Working on :  DXCM\n",
      "colname daily_return\n",
      "Working on :  AMD\n",
      "colname daily_return\n",
      "Working on :  NFLX\n",
      "colname daily_return\n",
      "Working on :  COST\n",
      "colname daily_return\n",
      "Working on :  TGT\n",
      "colname daily_return\n",
      "Working on :  AES\n",
      "colname daily_return\n",
      "Working on :  MSCI\n",
      "colname daily_return\n",
      "Working on :  NEM\n",
      "colname daily_return\n",
      "Working on :  SBAC\n",
      "colname daily_return\n",
      "Working on :  HES\n",
      "colname daily_return\n"
     ]
    },
    {
     "data": {
      "text/html": [
       "<div>\n",
       "<style scoped>\n",
       "    .dataframe tbody tr th:only-of-type {\n",
       "        vertical-align: middle;\n",
       "    }\n",
       "\n",
       "    .dataframe tbody tr th {\n",
       "        vertical-align: top;\n",
       "    }\n",
       "\n",
       "    .dataframe thead th {\n",
       "        text-align: right;\n",
       "    }\n",
       "</style>\n",
       "<table border=\"1\" class=\"dataframe\">\n",
       "  <thead>\n",
       "    <tr style=\"text-align: right;\">\n",
       "      <th></th>\n",
       "      <th>GNRC</th>\n",
       "      <th>DXCM</th>\n",
       "      <th>AMD</th>\n",
       "      <th>NFLX</th>\n",
       "      <th>COST</th>\n",
       "      <th>TGT</th>\n",
       "      <th>AES</th>\n",
       "      <th>MSCI</th>\n",
       "      <th>NEM</th>\n",
       "      <th>SBAC</th>\n",
       "      <th>HES</th>\n",
       "    </tr>\n",
       "  </thead>\n",
       "  <tbody>\n",
       "    <tr>\n",
       "      <th>GNRC</th>\n",
       "      <td>1.000000</td>\n",
       "      <td>0.312744</td>\n",
       "      <td>0.006354</td>\n",
       "      <td>0.355091</td>\n",
       "      <td>-0.003880</td>\n",
       "      <td>0.348460</td>\n",
       "      <td>-0.030453</td>\n",
       "      <td>0.524121</td>\n",
       "      <td>0.241925</td>\n",
       "      <td>0.444372</td>\n",
       "      <td>0.434646</td>\n",
       "    </tr>\n",
       "    <tr>\n",
       "      <th>DXCM</th>\n",
       "      <td>0.312744</td>\n",
       "      <td>1.000000</td>\n",
       "      <td>0.021128</td>\n",
       "      <td>0.335028</td>\n",
       "      <td>-0.008217</td>\n",
       "      <td>0.211187</td>\n",
       "      <td>-0.053733</td>\n",
       "      <td>0.491442</td>\n",
       "      <td>0.147457</td>\n",
       "      <td>0.268902</td>\n",
       "      <td>0.245543</td>\n",
       "    </tr>\n",
       "    <tr>\n",
       "      <th>AMD</th>\n",
       "      <td>0.006354</td>\n",
       "      <td>0.021128</td>\n",
       "      <td>1.000000</td>\n",
       "      <td>0.033529</td>\n",
       "      <td>0.390858</td>\n",
       "      <td>-0.060256</td>\n",
       "      <td>0.278423</td>\n",
       "      <td>0.026684</td>\n",
       "      <td>-0.017285</td>\n",
       "      <td>-0.087626</td>\n",
       "      <td>-0.035707</td>\n",
       "    </tr>\n",
       "    <tr>\n",
       "      <th>NFLX</th>\n",
       "      <td>0.355091</td>\n",
       "      <td>0.335028</td>\n",
       "      <td>0.033529</td>\n",
       "      <td>1.000000</td>\n",
       "      <td>-0.049751</td>\n",
       "      <td>0.271594</td>\n",
       "      <td>-0.006544</td>\n",
       "      <td>0.464810</td>\n",
       "      <td>0.096992</td>\n",
       "      <td>0.225670</td>\n",
       "      <td>0.232714</td>\n",
       "    </tr>\n",
       "    <tr>\n",
       "      <th>COST</th>\n",
       "      <td>-0.003880</td>\n",
       "      <td>-0.008217</td>\n",
       "      <td>0.390858</td>\n",
       "      <td>-0.049751</td>\n",
       "      <td>1.000000</td>\n",
       "      <td>-0.028066</td>\n",
       "      <td>0.337863</td>\n",
       "      <td>-0.011892</td>\n",
       "      <td>0.015636</td>\n",
       "      <td>-0.020376</td>\n",
       "      <td>-0.005489</td>\n",
       "    </tr>\n",
       "    <tr>\n",
       "      <th>TGT</th>\n",
       "      <td>0.348460</td>\n",
       "      <td>0.211187</td>\n",
       "      <td>-0.060256</td>\n",
       "      <td>0.271594</td>\n",
       "      <td>-0.028066</td>\n",
       "      <td>1.000000</td>\n",
       "      <td>-0.093797</td>\n",
       "      <td>0.328986</td>\n",
       "      <td>0.088937</td>\n",
       "      <td>0.311312</td>\n",
       "      <td>0.241815</td>\n",
       "    </tr>\n",
       "    <tr>\n",
       "      <th>AES</th>\n",
       "      <td>-0.030453</td>\n",
       "      <td>-0.053733</td>\n",
       "      <td>0.278423</td>\n",
       "      <td>-0.006544</td>\n",
       "      <td>0.337863</td>\n",
       "      <td>-0.093797</td>\n",
       "      <td>1.000000</td>\n",
       "      <td>-0.045311</td>\n",
       "      <td>0.006541</td>\n",
       "      <td>0.005654</td>\n",
       "      <td>-0.046339</td>\n",
       "    </tr>\n",
       "    <tr>\n",
       "      <th>MSCI</th>\n",
       "      <td>0.524121</td>\n",
       "      <td>0.491442</td>\n",
       "      <td>0.026684</td>\n",
       "      <td>0.464810</td>\n",
       "      <td>-0.011892</td>\n",
       "      <td>0.328986</td>\n",
       "      <td>-0.045311</td>\n",
       "      <td>1.000000</td>\n",
       "      <td>0.246352</td>\n",
       "      <td>0.492733</td>\n",
       "      <td>0.412224</td>\n",
       "    </tr>\n",
       "    <tr>\n",
       "      <th>NEM</th>\n",
       "      <td>0.241925</td>\n",
       "      <td>0.147457</td>\n",
       "      <td>-0.017285</td>\n",
       "      <td>0.096992</td>\n",
       "      <td>0.015636</td>\n",
       "      <td>0.088937</td>\n",
       "      <td>0.006541</td>\n",
       "      <td>0.246352</td>\n",
       "      <td>1.000000</td>\n",
       "      <td>0.261938</td>\n",
       "      <td>0.164185</td>\n",
       "    </tr>\n",
       "    <tr>\n",
       "      <th>SBAC</th>\n",
       "      <td>0.444372</td>\n",
       "      <td>0.268902</td>\n",
       "      <td>-0.087626</td>\n",
       "      <td>0.225670</td>\n",
       "      <td>-0.020376</td>\n",
       "      <td>0.311312</td>\n",
       "      <td>0.005654</td>\n",
       "      <td>0.492733</td>\n",
       "      <td>0.261938</td>\n",
       "      <td>1.000000</td>\n",
       "      <td>0.277106</td>\n",
       "    </tr>\n",
       "    <tr>\n",
       "      <th>HES</th>\n",
       "      <td>0.434646</td>\n",
       "      <td>0.245543</td>\n",
       "      <td>-0.035707</td>\n",
       "      <td>0.232714</td>\n",
       "      <td>-0.005489</td>\n",
       "      <td>0.241815</td>\n",
       "      <td>-0.046339</td>\n",
       "      <td>0.412224</td>\n",
       "      <td>0.164185</td>\n",
       "      <td>0.277106</td>\n",
       "      <td>1.000000</td>\n",
       "    </tr>\n",
       "  </tbody>\n",
       "</table>\n",
       "</div>"
      ],
      "text/plain": [
       "          GNRC      DXCM       AMD      NFLX      COST       TGT       AES  \\\n",
       "GNRC  1.000000  0.312744  0.006354  0.355091 -0.003880  0.348460 -0.030453   \n",
       "DXCM  0.312744  1.000000  0.021128  0.335028 -0.008217  0.211187 -0.053733   \n",
       "AMD   0.006354  0.021128  1.000000  0.033529  0.390858 -0.060256  0.278423   \n",
       "NFLX  0.355091  0.335028  0.033529  1.000000 -0.049751  0.271594 -0.006544   \n",
       "COST -0.003880 -0.008217  0.390858 -0.049751  1.000000 -0.028066  0.337863   \n",
       "TGT   0.348460  0.211187 -0.060256  0.271594 -0.028066  1.000000 -0.093797   \n",
       "AES  -0.030453 -0.053733  0.278423 -0.006544  0.337863 -0.093797  1.000000   \n",
       "MSCI  0.524121  0.491442  0.026684  0.464810 -0.011892  0.328986 -0.045311   \n",
       "NEM   0.241925  0.147457 -0.017285  0.096992  0.015636  0.088937  0.006541   \n",
       "SBAC  0.444372  0.268902 -0.087626  0.225670 -0.020376  0.311312  0.005654   \n",
       "HES   0.434646  0.245543 -0.035707  0.232714 -0.005489  0.241815 -0.046339   \n",
       "\n",
       "          MSCI       NEM      SBAC       HES  \n",
       "GNRC  0.524121  0.241925  0.444372  0.434646  \n",
       "DXCM  0.491442  0.147457  0.268902  0.245543  \n",
       "AMD   0.026684 -0.017285 -0.087626 -0.035707  \n",
       "NFLX  0.464810  0.096992  0.225670  0.232714  \n",
       "COST -0.011892  0.015636 -0.020376 -0.005489  \n",
       "TGT   0.328986  0.088937  0.311312  0.241815  \n",
       "AES  -0.045311  0.006541  0.005654 -0.046339  \n",
       "MSCI  1.000000  0.246352  0.492733  0.412224  \n",
       "NEM   0.246352  1.000000  0.261938  0.164185  \n",
       "SBAC  0.492733  0.261938  1.000000  0.277106  \n",
       "HES   0.412224  0.164185  0.277106  1.000000  "
      ]
     },
     "execution_count": 61,
     "metadata": {},
     "output_type": "execute_result"
    }
   ],
   "source": [
    "mult_df = merge_df_by_column_name('daily_return',  '2018-01-01', \n",
    "                                  '2020-12-31', *port_list)\n",
    "mult_df\n",
    "\n",
    "# Generate a Correlation Matrix\n",
    "mult_df.corr()"
   ]
  },
  {
   "cell_type": "markdown",
   "id": "eed83466-c28a-4ca7-8192-e7ca9104524a",
   "metadata": {},
   "source": [
    "<h2>Number of samples</h2>"
   ]
  },
  {
   "cell_type": "code",
   "execution_count": 62,
   "id": "7048eecd-23af-442d-9de2-3b055c7952a3",
   "metadata": {},
   "outputs": [
    {
     "data": {
      "text/plain": [
       "756"
      ]
     },
     "execution_count": 62,
     "metadata": {},
     "output_type": "execute_result"
    }
   ],
   "source": [
    "# Get the number of samples\n",
    "days = len(mult_df.index)\n",
    "days"
   ]
  },
  {
   "cell_type": "markdown",
   "id": "62e02c48-9c6f-4049-ad02-1d81a619f0fc",
   "metadata": {},
   "source": [
    "<h2>Stock Price on a given Date</h2>"
   ]
  },
  {
   "cell_type": "code",
   "execution_count": 63,
   "id": "803f12b4-acfa-4331-abe0-0feddb117aa9",
   "metadata": {},
   "outputs": [],
   "source": [
    "def get_stock_price_on_date(ticker, date):\n",
    "    df = get_df_from_csv(ticker)\n",
    "    df = df.set_index(['Date'])\n",
    "    return df.loc[date,'Adj Close']"
   ]
  },
  {
   "cell_type": "code",
   "execution_count": 64,
   "id": "665d04c5-aeb3-41cc-90a0-e6c8a1eaa542",
   "metadata": {},
   "outputs": [
    {
     "name": "stdout",
     "output_type": "stream",
     "text": [
      "GNRC $ 224.5599975585937\n",
      "DXCM $ 357.739990234375\n",
      "AMD $ 92.3000030517578\n",
      "NFLX $ 522.8599853515625\n",
      "COST $ 377.8815307617188\n",
      "TGT $ 175.82254028320312\n",
      "AES $ 22.82006454467773\n",
      "MSCI $ 435.3967590332031\n",
      "NEM $ 62.0733871459961\n",
      "SBAC $ 274.4242248535156\n",
      "HES $ 52.46865844726562\n"
     ]
    },
    {
     "data": {
      "text/plain": [
       "4905.980000000001"
      ]
     },
     "execution_count": 64,
     "metadata": {},
     "output_type": "execute_result"
    }
   ],
   "source": [
    "# 01-04-2021 is the 1st date in 2021\n",
    "print(\"GNRC $\", get_stock_price_on_date('GNRC', '2021-01-04')) # 2 449.12\n",
    "print(\"DXCM $\", get_stock_price_on_date('DXCM', '2021-01-04')) # 1 357.74\n",
    "print(\"AMD $\", get_stock_price_on_date('AMD', '2021-01-04')) # 4 369.2\n",
    "print(\"NFLX $\", get_stock_price_on_date('NFLX', '2021-01-04')) # 1 522.86\n",
    "print(\"COST $\", get_stock_price_on_date('COST', '2021-01-04')) # 1 377.88\n",
    "print(\"TGT $\", get_stock_price_on_date('TGT', '2021-01-04')) # 3 527.46\n",
    "print(\"AES $\", get_stock_price_on_date('AES', '2021-01-04')) # 18 410.76\n",
    "print(\"MSCI $\", get_stock_price_on_date('MSCI', '2021-01-04')) # 1 435.40\n",
    "print(\"NEM $\", get_stock_price_on_date('NEM', '2021-01-04')) # 7 434.49\n",
    "print(\"SBAC $\", get_stock_price_on_date('SBAC', '2021-01-04')) # 2 548.84\n",
    "print(\"HES $\", get_stock_price_on_date('HES', '2021-01-04')) # 9 472.23\n",
    "\n",
    "# Total Investment\n",
    "tot_inv = 449.12 + 357.74 + 369.2 + 522.86 + 377.88 + 527.46 + 410.76 + \\\n",
    "435.40 + 434.49 + 548.84 + 472.23\n",
    "tot_inv"
   ]
  },
  {
   "cell_type": "markdown",
   "id": "9f029f95-ff5f-4f20-8d33-db421304b574",
   "metadata": {},
   "source": [
    "<h2>Get Portfolio Weight</h2>"
   ]
  },
  {
   "cell_type": "code",
   "execution_count": 65,
   "id": "6edf7d13-69d2-4720-b246-3d13b1e75195",
   "metadata": {},
   "outputs": [],
   "source": [
    "def get_port_weight(price, total):\n",
    "    return (price/total)"
   ]
  },
  {
   "cell_type": "code",
   "execution_count": 66,
   "id": "848a2bdc-0813-42ba-990c-c548d78e9f04",
   "metadata": {},
   "outputs": [],
   "source": [
    "gnrc_w = get_port_weight(449.12, 4905.98)\n",
    "dxcm_w = get_port_weight(357.74, 4905.98)\n",
    "amd_w = get_port_weight(369.2, 4905.98)\n",
    "nflx_w = get_port_weight(522.86, 4905.98)\n",
    "cost_w = get_port_weight(377.88, 4905.98)\n",
    "tgt_w = get_port_weight(527.46, 4905.98)\n",
    "aes_w = get_port_weight(410.76, 4905.98)\n",
    "msci_w = get_port_weight(435.40, 4905.98)\n",
    "nem_w = get_port_weight(434.49, 4905.98)\n",
    "sbac_w = get_port_weight(548.84, 4905.98)\n",
    "hes_w = get_port_weight(472.23, 4905.98)"
   ]
  },
  {
   "cell_type": "code",
   "execution_count": 67,
   "id": "47ba47cd-f95d-406f-9d02-dc17bd775f3c",
   "metadata": {},
   "outputs": [
    {
     "data": {
      "text/plain": [
       "array([0.09154542, 0.07291917, 0.0752551 , 0.10657606, 0.07702437,\n",
       "       0.10751369, 0.08372639, 0.08874883, 0.08856335, 0.11187163,\n",
       "       0.096256  ])"
      ]
     },
     "execution_count": 67,
     "metadata": {},
     "output_type": "execute_result"
    }
   ],
   "source": [
    "wts = np.array([gnrc_w, dxcm_w, amd_w, nflx_w, cost_w, tgt_w, aes_w, msci_w, \\\n",
    "                nem_w, sbac_w, hes_w])\n",
    "wts"
   ]
  },
  {
   "cell_type": "code",
   "execution_count": 68,
   "id": "e33298c1-b767-44d4-902a-b21a41ba1ee6",
   "metadata": {},
   "outputs": [
    {
     "name": "stdout",
     "output_type": "stream",
     "text": [
      "Portfolio Covariance : 0.12222241483582241\n",
      "GNRC Var : 0.4432566252339934\n",
      "NFLX Var : 0.5490187771505236\n"
     ]
    }
   ],
   "source": [
    "port_var = np.dot(wts.T, np.dot(mult_df.cov() * 756, wts))\n",
    "print(\"Portfolio Covariance :\", port_var)\n",
    "print(\"GNRC Var :\", mult_df[\"GNRC\"].var() * 756)\n",
    "print(\"NFLX Var :\", mult_df[\"NFLX\"].var() * 756)"
   ]
  },
  {
   "cell_type": "markdown",
   "id": "d067c2e7-2dac-452d-9cb6-4bf4667ead3a",
   "metadata": {},
   "source": [
    "<h2>Different types of Risk</h2>"
   ]
  },
  {
   "cell_type": "markdown",
   "id": "2dd86d1a-300f-4971-90af-6d669d195ba2",
   "metadata": {},
   "source": [
    "<h3>Diversifiable Risk --> Idiosyncratic</h3>"
   ]
  },
  {
   "cell_type": "code",
   "execution_count": 69,
   "id": "4fed5d63-2abc-4892-8529-6a730b6ae657",
   "metadata": {},
   "outputs": [],
   "source": [
    "# Diversifiable Risk = Portfolio Variance - All Weighted Variances\n",
    "def calc_diversifiable_risk(df, tickers, weights):\n",
    "    # Gets number of days\n",
    "    days = len(mult_df.index)\n",
    "    # Calculate covariance of portfolio\n",
    "    port_covar = np.dot(weights.T, np.dot(df.cov() * days, weights)) \n",
    "    \n",
    "    i = 0\n",
    "    while i < len(tickers):\n",
    "        wt_sq = weights[i] ** 2\n",
    "        stk_var = mult_df[tickers[i]].var() * days\n",
    "        wt_var = wt_sq * stk_var\n",
    "        port_covar = port_covar - wt_var\n",
    "        i += 1\n",
    "    return port_covar"
   ]
  },
  {
   "cell_type": "code",
   "execution_count": 70,
   "id": "5483df7c-5d39-4e96-95ff-6338f9edf8bc",
   "metadata": {},
   "outputs": [
    {
     "data": {
      "text/plain": [
       "0.07503503454469351"
      ]
     },
     "execution_count": 70,
     "metadata": {},
     "output_type": "execute_result"
    }
   ],
   "source": [
    "div_risk = calc_diversifiable_risk(mult_df, port_list, wts)\n",
    "div_risk"
   ]
  },
  {
   "cell_type": "markdown",
   "id": "89db81f7-0fbc-4b99-be0d-13ac33ea019a",
   "metadata": {},
   "source": [
    "<h3>Undiversifiable Risk --> Systemic</h3>"
   ]
  },
  {
   "cell_type": "code",
   "execution_count": 71,
   "id": "92ca89dc-5aed-489b-b7c3-4b1aaa206691",
   "metadata": {},
   "outputs": [
    {
     "name": "stdout",
     "output_type": "stream",
     "text": [
      "Systematic Risk : 0.0471873802911289\n"
     ]
    }
   ],
   "source": [
    "print(\"Systematic Risk :\", (port_var - div_risk))"
   ]
  }
 ],
 "metadata": {
  "kernelspec": {
   "display_name": "Python 3 (ipykernel)",
   "language": "python",
   "name": "python3"
  },
  "language_info": {
   "codemirror_mode": {
    "name": "ipython",
    "version": 3
   },
   "file_extension": ".py",
   "mimetype": "text/x-python",
   "name": "python",
   "nbconvert_exporter": "python",
   "pygments_lexer": "ipython3",
   "version": "3.9.16"
  }
 },
 "nbformat": 4,
 "nbformat_minor": 5
}
