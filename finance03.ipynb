{
 "cells": [
  {
   "cell_type": "markdown",
   "id": "abb300c8-9df2-4beb-ba6e-7e9e27348991",
   "metadata": {},
   "source": [
    "<h2>Imports</h2>"
   ]
  },
  {
   "cell_type": "code",
   "execution_count": 1,
   "id": "f8cfe906-e314-4c7f-8fd6-162d810c2b5b",
   "metadata": {},
   "outputs": [],
   "source": [
    "import os\n",
    "from os import listdir\n",
    "from os.path import isfile, join\n",
    "\n",
    "import numpy as np\n",
    "import pandas as pd\n",
    "from pandas_datareader import data as web\n",
    "import matplotlib.pyplot as plt\n",
    "import matplotlib.dates as mdates\n",
    "%matplotlib inline\n",
    "\n",
    "import datetime as dt\n",
    "import mplfinance as mpf\n",
    "\n",
    "import time"
   ]
  },
  {
   "cell_type": "markdown",
   "id": "9e78a951-9feb-4803-beab-1553c8d198b7",
   "metadata": {},
   "source": [
    "<h2>Default Values</h2>"
   ]
  },
  {
   "cell_type": "code",
   "execution_count": 2,
   "id": "a7119671-1e52-47a6-972a-7af847e58aef",
   "metadata": {},
   "outputs": [],
   "source": [
    "PATH=\"C:/Users/Zak/Documents/Programming/Data_Science/Finance/finance_course/Stock_list/\"\n",
    "import default_values"
   ]
  },
  {
   "cell_type": "markdown",
   "id": "8437e9c5-9a70-4595-acda-03fa67b9556e",
   "metadata": {},
   "source": [
    "<h2>Get Stock File Names in a List</h2>"
   ]
  },
  {
   "cell_type": "code",
   "execution_count": 3,
   "id": "2bf819bd-b27c-4955-acf8-48bf7622d3f2",
   "metadata": {},
   "outputs": [],
   "source": [
    "# listdir is going to return all files in the directory, if the thing listed is a file, then we'll store its name in a \"files\" list\n",
    "files = [x for x in listdir(PATH) if isfile (join(PATH,x))]\n",
    "\n",
    "# and now remove the \".csv\" extenstion\n",
    "tickers = [os.path.splitext(x)[0] for x in files]"
   ]
  },
  {
   "cell_type": "markdown",
   "id": "db808eb8-6289-4c02-b78a-d8d58b832ac6",
   "metadata": {},
   "source": [
    "<h2>Returns a Dataframe from a CSV</h2>"
   ]
  },
  {
   "cell_type": "code",
   "execution_count": 4,
   "id": "016c71a8-7302-40ab-86e0-fc5abf3f7654",
   "metadata": {},
   "outputs": [],
   "source": [
    "def get_df_from_csv(ticker):\n",
    "    try:\n",
    "        df = pd.read_csv(PATH + ticker + '.csv')\n",
    "        df = df[::-1]\n",
    "    except FileNotFoundError:\n",
    "        print(\"File Doesn't exist\")\n",
    "    else:\n",
    "        return df"
   ]
  },
  {
   "cell_type": "markdown",
   "id": "ea396f19-0216-46e1-a764-ff050139ea94",
   "metadata": {},
   "source": [
    "<h2>Save Dataframe to CSV & Delete Unnamed Columns</h2>"
   ]
  },
  {
   "cell_type": "code",
   "execution_count": 5,
   "id": "5ca87675-0bf5-408c-a632-dad216283307",
   "metadata": {},
   "outputs": [],
   "source": [
    "def save_df_to_csv(df, ticker):\n",
    "    df.to_csv(PATH + ticker + '.csv')\n",
    "    \n",
    "def delete_unnamed_cols(df):\n",
    "    df = df.loc[:, ~df.columns.str.contains('^Unnamed')]\n",
    "    return df"
   ]
  },
  {
   "cell_type": "markdown",
   "id": "4e0acf9c-4012-4af7-ac35-f8a1064696ab",
   "metadata": {},
   "source": [
    "<h2>Return Valid Dates in Dataframe</h2>"
   ]
  },
  {
   "cell_type": "markdown",
   "id": "70743b1f-4537-4a74-b3c7-2e5e80b804f6",
   "metadata": {},
   "source": [
    "Checks if the dates are good as far as if the stock market is open that day etc..."
   ]
  },
  {
   "cell_type": "code",
   "execution_count": 6,
   "id": "ecff1448-a7e1-42fd-a8e9-290e18b6f680",
   "metadata": {},
   "outputs": [],
   "source": [
    "def get_valid_dates(df, sdate, edate):\n",
    "    try:\n",
    "        mask = (df['Date'] > sdate) & (df['Date'] <= edate)\n",
    "        # create smaller dataframe that only gets the valid dates set by the mask\n",
    "        sm_df = df.loc[mask]\n",
    "        # set indices as dates\n",
    "        sm_df = sm_df.set_index(['Date'])\n",
    "        # get first and last dates of the date range\n",
    "        first_date = sm_df.index.min()\n",
    "        last_date = sm_df.index.max()\n",
    "        \n",
    "        # if the date has only one number (like 1-1-2021), then a '0' is added before\n",
    "        date_leading = '-'.join( ('0' if len(x) < 2 else '') + x for x in first_date.split('-') )\n",
    "        date_ending = '-'.join( ('0' if len(x) < 2 else '') + x for x in last_date.split('-') )\n",
    "    except Exception:\n",
    "        print(\"Date Corrupted\")\n",
    "    else:\n",
    "        return date_leading, date_ending\n",
    "        \n",
    "        "
   ]
  },
  {
   "cell_type": "markdown",
   "id": "b489e7b3-f001-4100-9850-89ff1f279a26",
   "metadata": {},
   "source": [
    "<h2>ROI over time</h2>"
   ]
  },
  {
   "cell_type": "code",
   "execution_count": 7,
   "id": "2324c22c-4231-4ee1-90e0-9761c99defd5",
   "metadata": {},
   "outputs": [],
   "source": [
    "def roi_between_dates(df, sdate, edate):\n",
    "    try:\n",
    "        # Gets the Adj Close price for 1st & last date \n",
    "        start_val = df.loc[sdate]['Adj Close'] \n",
    "        end_val = df.loc[edate]['Adj Close'] \n",
    "        roi = ((end_val - start_val) / start_val)\n",
    "    except Exception:\n",
    "        print(\"Data Corrupted\")\n",
    "    else:\n",
    "        return roi"
   ]
  },
  {
   "cell_type": "markdown",
   "id": "faea48ef-7820-45b5-9cbc-0ed2d4cc6028",
   "metadata": {},
   "source": [
    "<h2>Mean between Dates</h2>"
   ]
  },
  {
   "cell_type": "code",
   "execution_count": 8,
   "id": "e19fb155-0948-41d6-bf6e-567eb26776c1",
   "metadata": {},
   "outputs": [],
   "source": [
    "def get_mean_between_dates(df, sdate, edate):\n",
    "    mask = (df['Date'] > sdate) & (df['Date'] <= edate)\n",
    "    return df.loc[mask]['Adj Close'].mean()"
   ]
  },
  {
   "cell_type": "markdown",
   "id": "112a7755-7b4d-4606-9a9a-f2128d2c5be7",
   "metadata": {},
   "source": [
    "<h2>Standard Deviation between dates</h2>"
   ]
  },
  {
   "cell_type": "code",
   "execution_count": 9,
   "id": "40b84539-09c1-429b-a370-58641f2ca255",
   "metadata": {},
   "outputs": [],
   "source": [
    "def get_sd_between_dates(df, sdate, edate):\n",
    "    mask = (df['Date'] > sdate) & (df['Date'] <= edate)\n",
    "    return df.loc[mask]['Adj Close'].std()"
   ]
  },
  {
   "cell_type": "markdown",
   "id": "64868cdf-d863-499f-95d0-7a6395f40ff7",
   "metadata": {},
   "source": [
    "<h2>Covariance</h2>"
   ]
  },
  {
   "cell_type": "code",
   "execution_count": 10,
   "id": "dc24252c-bb34-4739-9f30-2ed5f17ccbab",
   "metadata": {},
   "outputs": [],
   "source": [
    "def get_cov_between_dates(df, sdate, edate):\n",
    "    return (get_sd_between_dates(df,sdate,edate) / get_mean_between_dates(df,sdate,edate))"
   ]
  },
  {
   "cell_type": "markdown",
   "id": "7a4a96da-6122-4090-bff9-8f3667e184e0",
   "metadata": {},
   "source": [
    "<h2>Test Functions</h2>"
   ]
  },
  {
   "cell_type": "code",
   "execution_count": 11,
   "id": "7b3d7a43-153d-4a0f-b56b-154d941213ae",
   "metadata": {},
   "outputs": [
    {
     "name": "stdout",
     "output_type": "stream",
     "text": [
      "=========================\n",
      "Testing for :  AA\n",
      "=========================\n",
      "('2020-01-02', '2020-12-31')\n",
      "Ajd Close Mean:  13.356706361922006\n",
      "Ajd Close Standard Deviation:  4.545523786027696\n",
      "Ajd Close Covariance:  0.3403177147763248\n",
      "ROI:  0.07609706605792996\n",
      "=========================\n",
      "\n",
      "=========================\n",
      "Testing for CSCO\n",
      "=========================\n",
      "Ajd Close Mean:  41.57403742320954\n",
      "Ajd Close Standard Deviation:  3.446306017645834\n",
      "Ajd Close Covariance:  0.08289562985099601\n",
      "ROI:  -0.05100995551625191\n",
      "=========================\n"
     ]
    }
   ],
   "source": [
    "print(\"=========================\")\n",
    "print(\"Testing for : \", tickers[0])\n",
    "print(\"=========================\")\n",
    "\n",
    "stock_a = get_df_from_csv(tickers[0])\n",
    "\n",
    "print(get_valid_dates(stock_a,'2020-01-01','2020-12-31'))\n",
    "sdate, edate = get_valid_dates(stock_a,'2020-01-01','2020-12-31')\n",
    "print(\"Ajd Close Mean: \", get_mean_between_dates(stock_a, sdate, edate))\n",
    "print(\"Ajd Close Standard Deviation: \", get_sd_between_dates(stock_a, sdate, edate))\n",
    "print(\"Ajd Close Covariance: \", get_cov_between_dates(stock_a, sdate, edate))\n",
    "stock_a = stock_a.set_index(['Date'])\n",
    "print(\"ROI: \", roi_between_dates(stock_a, sdate, edate))\n",
    "print(\"=========================\")\n",
    "print()\n",
    "\n",
    "print(\"=========================\")\n",
    "print(\"Testing for CSCO\")\n",
    "print(\"=========================\")\n",
    "stock_b = get_df_from_csv('CSCO')\n",
    "sdate, edate = get_valid_dates(stock_b,'2020-01-01','2020-12-31')\n",
    "print(\"Ajd Close Mean: \", get_mean_between_dates(stock_b, sdate, edate))\n",
    "print(\"Ajd Close Standard Deviation: \", get_sd_between_dates(stock_b, sdate, edate))\n",
    "print(\"Ajd Close Covariance: \", get_cov_between_dates(stock_b, sdate, edate))\n",
    "stock_b = stock_b.set_index(['Date'])\n",
    "print(\"ROI: \", roi_between_dates(stock_b, sdate, edate))\n",
    "print(\"=========================\")\n",
    "\n"
   ]
  },
  {
   "cell_type": "markdown",
   "id": "b145ae31-a0d0-43a1-b19c-05bfea3e6f2e",
   "metadata": {},
   "source": [
    "<h2>COV & ROI for all stocks over a defined period</h2>"
   ]
  },
  {
   "cell_type": "code",
   "execution_count": 12,
   "id": "161237dd-caac-4da0-80e4-cfc65ed3f3bc",
   "metadata": {},
   "outputs": [],
   "source": [
    "def get_cov_roi(tickers, sdate, edate):\n",
    "    col_names = [\"Ticker\", \"COV\", \"ROI\"]\n",
    "    df = pd.DataFrame(columns= col_names)\n",
    "    for ticker in tickers:\n",
    "        # print(\"Working on : \", ticker)\n",
    "        s_df = get_df_from_csv(ticker)\n",
    "        sdate2, edate2 = get_valid_dates(s_df, sdate, edate)\n",
    "        cov = get_cov_between_dates(s_df, sdate2, edate2)\n",
    "        s_df = s_df.set_index(['Date'])\n",
    "        roi = roi_between_dates(s_df, sdate2, edate2)\n",
    "        df.loc[len(df.index)] = [ticker, cov, roi]\n",
    "    return df"
   ]
  },
  {
   "cell_type": "code",
   "execution_count": 13,
   "id": "f1daa014-a689-490e-9c2e-12cf680d5cb0",
   "metadata": {},
   "outputs": [
    {
     "data": {
      "text/html": [
       "<div>\n",
       "<style scoped>\n",
       "    .dataframe tbody tr th:only-of-type {\n",
       "        vertical-align: middle;\n",
       "    }\n",
       "\n",
       "    .dataframe tbody tr th {\n",
       "        vertical-align: top;\n",
       "    }\n",
       "\n",
       "    .dataframe thead th {\n",
       "        text-align: right;\n",
       "    }\n",
       "</style>\n",
       "<table border=\"1\" class=\"dataframe\">\n",
       "  <thead>\n",
       "    <tr style=\"text-align: right;\">\n",
       "      <th></th>\n",
       "      <th>Ticker</th>\n",
       "      <th>COV</th>\n",
       "      <th>ROI</th>\n",
       "    </tr>\n",
       "  </thead>\n",
       "  <tbody>\n",
       "    <tr>\n",
       "      <th>0</th>\n",
       "      <td>AA</td>\n",
       "      <td>0.158993</td>\n",
       "      <td>-0.180259</td>\n",
       "    </tr>\n",
       "    <tr>\n",
       "      <th>1</th>\n",
       "      <td>AAL</td>\n",
       "      <td>0.094255</td>\n",
       "      <td>-0.106021</td>\n",
       "    </tr>\n",
       "    <tr>\n",
       "      <th>2</th>\n",
       "      <td>AAME</td>\n",
       "      <td>0.123107</td>\n",
       "      <td>-0.202506</td>\n",
       "    </tr>\n",
       "    <tr>\n",
       "      <th>3</th>\n",
       "      <td>AAOI</td>\n",
       "      <td>0.202465</td>\n",
       "      <td>-0.251889</td>\n",
       "    </tr>\n",
       "    <tr>\n",
       "      <th>4</th>\n",
       "      <td>AAON</td>\n",
       "      <td>0.096021</td>\n",
       "      <td>0.418350</td>\n",
       "    </tr>\n",
       "    <tr>\n",
       "      <th>...</th>\n",
       "      <td>...</td>\n",
       "      <td>...</td>\n",
       "      <td>...</td>\n",
       "    </tr>\n",
       "    <tr>\n",
       "      <th>2901</th>\n",
       "      <td>ZSAN</td>\n",
       "      <td>0.372906</td>\n",
       "      <td>-0.350427</td>\n",
       "    </tr>\n",
       "    <tr>\n",
       "      <th>2902</th>\n",
       "      <td>ZTS</td>\n",
       "      <td>0.129821</td>\n",
       "      <td>0.576627</td>\n",
       "    </tr>\n",
       "    <tr>\n",
       "      <th>2903</th>\n",
       "      <td>ZUMZ</td>\n",
       "      <td>0.146251</td>\n",
       "      <td>0.760448</td>\n",
       "    </tr>\n",
       "    <tr>\n",
       "      <th>2904</th>\n",
       "      <td>ZYNE</td>\n",
       "      <td>0.376312</td>\n",
       "      <td>0.623656</td>\n",
       "    </tr>\n",
       "    <tr>\n",
       "      <th>2905</th>\n",
       "      <td>ZYXI</td>\n",
       "      <td>0.320244</td>\n",
       "      <td>1.723183</td>\n",
       "    </tr>\n",
       "  </tbody>\n",
       "</table>\n",
       "<p>2906 rows × 3 columns</p>\n",
       "</div>"
      ],
      "text/plain": [
       "     Ticker       COV       ROI\n",
       "0        AA  0.158993 -0.180259\n",
       "1       AAL  0.094255 -0.106021\n",
       "2      AAME  0.123107 -0.202506\n",
       "3      AAOI  0.202465 -0.251889\n",
       "4      AAON  0.096021  0.418350\n",
       "...     ...       ...       ...\n",
       "2901   ZSAN  0.372906 -0.350427\n",
       "2902    ZTS  0.129821  0.576627\n",
       "2903   ZUMZ  0.146251  0.760448\n",
       "2904   ZYNE  0.376312  0.623656\n",
       "2905   ZYXI  0.320244  1.723183\n",
       "\n",
       "[2906 rows x 3 columns]"
      ]
     },
     "execution_count": 13,
     "metadata": {},
     "output_type": "execute_result"
    }
   ],
   "source": [
    "market_df = get_cov_roi(tickers, '2019-01-01', '2019-12-31')\n",
    "market_df"
   ]
  },
  {
   "cell_type": "code",
   "execution_count": 14,
   "id": "cc8b42cb-e1cc-4622-9e6b-00c28eff0acd",
   "metadata": {},
   "outputs": [
    {
     "name": "stdout",
     "output_type": "stream",
     "text": [
      "Best 20 Stocks based on ROI\n"
     ]
    },
    {
     "data": {
      "text/html": [
       "<div>\n",
       "<style scoped>\n",
       "    .dataframe tbody tr th:only-of-type {\n",
       "        vertical-align: middle;\n",
       "    }\n",
       "\n",
       "    .dataframe tbody tr th {\n",
       "        vertical-align: top;\n",
       "    }\n",
       "\n",
       "    .dataframe thead th {\n",
       "        text-align: right;\n",
       "    }\n",
       "</style>\n",
       "<table border=\"1\" class=\"dataframe\">\n",
       "  <thead>\n",
       "    <tr style=\"text-align: right;\">\n",
       "      <th></th>\n",
       "      <th>Ticker</th>\n",
       "      <th>COV</th>\n",
       "      <th>ROI</th>\n",
       "    </tr>\n",
       "  </thead>\n",
       "  <tbody>\n",
       "    <tr>\n",
       "      <th>286</th>\n",
       "      <td>AXSM</td>\n",
       "      <td>0.745206</td>\n",
       "      <td>37.567163</td>\n",
       "    </tr>\n",
       "    <tr>\n",
       "      <th>791</th>\n",
       "      <td>DRRX</td>\n",
       "      <td>0.566453</td>\n",
       "      <td>6.037037</td>\n",
       "    </tr>\n",
       "    <tr>\n",
       "      <th>1622</th>\n",
       "      <td>MBOT</td>\n",
       "      <td>0.290907</td>\n",
       "      <td>4.438503</td>\n",
       "    </tr>\n",
       "    <tr>\n",
       "      <th>866</th>\n",
       "      <td>ENPH</td>\n",
       "      <td>0.447633</td>\n",
       "      <td>4.310975</td>\n",
       "    </tr>\n",
       "    <tr>\n",
       "      <th>1908</th>\n",
       "      <td>OESX</td>\n",
       "      <td>0.402282</td>\n",
       "      <td>4.000000</td>\n",
       "    </tr>\n",
       "    <tr>\n",
       "      <th>220</th>\n",
       "      <td>ARWR</td>\n",
       "      <td>0.496426</td>\n",
       "      <td>3.834604</td>\n",
       "    </tr>\n",
       "    <tr>\n",
       "      <th>2806</th>\n",
       "      <td>WKHS</td>\n",
       "      <td>0.526715</td>\n",
       "      <td>3.676923</td>\n",
       "    </tr>\n",
       "    <tr>\n",
       "      <th>2238</th>\n",
       "      <td>ROKU</td>\n",
       "      <td>0.374797</td>\n",
       "      <td>3.117466</td>\n",
       "    </tr>\n",
       "    <tr>\n",
       "      <th>1689</th>\n",
       "      <td>MLSS</td>\n",
       "      <td>0.570364</td>\n",
       "      <td>3.088235</td>\n",
       "    </tr>\n",
       "    <tr>\n",
       "      <th>1521</th>\n",
       "      <td>LEU</td>\n",
       "      <td>0.346334</td>\n",
       "      <td>3.047059</td>\n",
       "    </tr>\n",
       "    <tr>\n",
       "      <th>735</th>\n",
       "      <td>DBD</td>\n",
       "      <td>0.274043</td>\n",
       "      <td>2.911111</td>\n",
       "    </tr>\n",
       "    <tr>\n",
       "      <th>515</th>\n",
       "      <td>CFMS</td>\n",
       "      <td>0.461953</td>\n",
       "      <td>2.886010</td>\n",
       "    </tr>\n",
       "    <tr>\n",
       "      <th>190</th>\n",
       "      <td>APPS</td>\n",
       "      <td>0.376899</td>\n",
       "      <td>2.772487</td>\n",
       "    </tr>\n",
       "    <tr>\n",
       "      <th>200</th>\n",
       "      <td>ARAV</td>\n",
       "      <td>0.314364</td>\n",
       "      <td>2.755494</td>\n",
       "    </tr>\n",
       "    <tr>\n",
       "      <th>205</th>\n",
       "      <td>ARDX</td>\n",
       "      <td>0.434847</td>\n",
       "      <td>2.752500</td>\n",
       "    </tr>\n",
       "    <tr>\n",
       "      <th>1754</th>\n",
       "      <td>MTNB</td>\n",
       "      <td>0.309194</td>\n",
       "      <td>2.721311</td>\n",
       "    </tr>\n",
       "    <tr>\n",
       "      <th>882</th>\n",
       "      <td>EPZM</td>\n",
       "      <td>0.198505</td>\n",
       "      <td>2.688156</td>\n",
       "    </tr>\n",
       "    <tr>\n",
       "      <th>2189</th>\n",
       "      <td>RETA</td>\n",
       "      <td>0.442779</td>\n",
       "      <td>2.668222</td>\n",
       "    </tr>\n",
       "    <tr>\n",
       "      <th>2860</th>\n",
       "      <td>XBIT</td>\n",
       "      <td>0.327568</td>\n",
       "      <td>2.624272</td>\n",
       "    </tr>\n",
       "    <tr>\n",
       "      <th>482</th>\n",
       "      <td>CCXI</td>\n",
       "      <td>0.601376</td>\n",
       "      <td>2.572719</td>\n",
       "    </tr>\n",
       "  </tbody>\n",
       "</table>\n",
       "</div>"
      ],
      "text/plain": [
       "     Ticker       COV        ROI\n",
       "286    AXSM  0.745206  37.567163\n",
       "791    DRRX  0.566453   6.037037\n",
       "1622   MBOT  0.290907   4.438503\n",
       "866    ENPH  0.447633   4.310975\n",
       "1908   OESX  0.402282   4.000000\n",
       "220    ARWR  0.496426   3.834604\n",
       "2806   WKHS  0.526715   3.676923\n",
       "2238   ROKU  0.374797   3.117466\n",
       "1689   MLSS  0.570364   3.088235\n",
       "1521    LEU  0.346334   3.047059\n",
       "735     DBD  0.274043   2.911111\n",
       "515    CFMS  0.461953   2.886010\n",
       "190    APPS  0.376899   2.772487\n",
       "200    ARAV  0.314364   2.755494\n",
       "205    ARDX  0.434847   2.752500\n",
       "1754   MTNB  0.309194   2.721311\n",
       "882    EPZM  0.198505   2.688156\n",
       "2189   RETA  0.442779   2.668222\n",
       "2860   XBIT  0.327568   2.624272\n",
       "482    CCXI  0.601376   2.572719"
      ]
     },
     "execution_count": 14,
     "metadata": {},
     "output_type": "execute_result"
    }
   ],
   "source": [
    "print(\"Best 20 Stocks based on ROI\")\n",
    "market_df.sort_values(by=['ROI'], ascending = False).head(20)"
   ]
  },
  {
   "cell_type": "markdown",
   "id": "54e389b4-ea0c-408f-a2af-731d3ce47cea",
   "metadata": {},
   "source": [
    "<h2></h2>"
   ]
  },
  {
   "cell_type": "markdown",
   "id": "5ebaa60d-d955-4165-8998-370c6cf4239a",
   "metadata": {},
   "source": [
    "<h2>Merge multiple Stocks in One Dataframe by Column name</h2>"
   ]
  },
  {
   "cell_type": "code",
   "execution_count": 52,
   "id": "9f4230b5-a562-48a8-af41-506fdae24dc9",
   "metadata": {},
   "outputs": [],
   "source": [
    "def merge_df_by_column_name(col_name, sdate, edate, *tickers):\n",
    "    mult_df = pd.DataFrame()\n",
    "    \n",
    "    for x in tickers:\n",
    "        df = get_df_from_csv(x)\n",
    "        print(\"Working on : \", x)\n",
    "        df['Date'] = pd.to_datetime(df['Date'])\n",
    "        # Use a mask to grab data between defined dates\n",
    "        mask = (df['Date'] >= sdate) & (df['Date'] <= edate)\n",
    "        print(\"colname\",col_name)\n",
    "        mult_df[x] = df.loc[mask][col_name]\n",
    "        \n",
    "    return mult_df"
   ]
  },
  {
   "cell_type": "markdown",
   "id": "915aa5c6-6e42-4530-a881-151caf6d125d",
   "metadata": {},
   "source": [
    "<h2>Create a Correlation Matrix using FAANGS</h2>"
   ]
  },
  {
   "cell_type": "markdown",
   "id": "7702daa0-c49c-47e4-b610-cdea206927fe",
   "metadata": {},
   "source": [
    "@TODO fix with AAPL and AMZN"
   ]
  },
  {
   "cell_type": "code",
   "execution_count": 55,
   "id": "00ab7245-4c12-4b98-90d3-b746fc879c57",
   "metadata": {},
   "outputs": [
    {
     "name": "stdout",
     "output_type": "stream",
     "text": [
      "Working on :  FB\n",
      "colname daily_return\n",
      "Working on :  NFLX\n",
      "colname daily_return\n",
      "Working on :  GOOG\n",
      "colname daily_return\n",
      "Working on :  MSFT\n",
      "colname daily_return\n"
     ]
    },
    {
     "data": {
      "text/html": [
       "<div>\n",
       "<style scoped>\n",
       "    .dataframe tbody tr th:only-of-type {\n",
       "        vertical-align: middle;\n",
       "    }\n",
       "\n",
       "    .dataframe tbody tr th {\n",
       "        vertical-align: top;\n",
       "    }\n",
       "\n",
       "    .dataframe thead th {\n",
       "        text-align: right;\n",
       "    }\n",
       "</style>\n",
       "<table border=\"1\" class=\"dataframe\">\n",
       "  <thead>\n",
       "    <tr style=\"text-align: right;\">\n",
       "      <th></th>\n",
       "      <th>FB</th>\n",
       "      <th>NFLX</th>\n",
       "      <th>GOOG</th>\n",
       "      <th>MSFT</th>\n",
       "    </tr>\n",
       "  </thead>\n",
       "  <tbody>\n",
       "    <tr>\n",
       "      <th>FB</th>\n",
       "      <td>1.000000</td>\n",
       "      <td>0.595254</td>\n",
       "      <td>0.810791</td>\n",
       "      <td>0.776997</td>\n",
       "    </tr>\n",
       "    <tr>\n",
       "      <th>NFLX</th>\n",
       "      <td>0.595254</td>\n",
       "      <td>1.000000</td>\n",
       "      <td>0.546265</td>\n",
       "      <td>0.617632</td>\n",
       "    </tr>\n",
       "    <tr>\n",
       "      <th>GOOG</th>\n",
       "      <td>0.810791</td>\n",
       "      <td>0.546265</td>\n",
       "      <td>1.000000</td>\n",
       "      <td>0.859815</td>\n",
       "    </tr>\n",
       "    <tr>\n",
       "      <th>MSFT</th>\n",
       "      <td>0.776997</td>\n",
       "      <td>0.617632</td>\n",
       "      <td>0.859815</td>\n",
       "      <td>1.000000</td>\n",
       "    </tr>\n",
       "  </tbody>\n",
       "</table>\n",
       "</div>"
      ],
      "text/plain": [
       "            FB      NFLX      GOOG      MSFT\n",
       "FB    1.000000  0.595254  0.810791  0.776997\n",
       "NFLX  0.595254  1.000000  0.546265  0.617632\n",
       "GOOG  0.810791  0.546265  1.000000  0.859815\n",
       "MSFT  0.776997  0.617632  0.859815  1.000000"
      ]
     },
     "execution_count": 55,
     "metadata": {},
     "output_type": "execute_result"
    }
   ],
   "source": [
    "faang_list = [\"FB\", \"NFLX\", \"GOOG\", \"MSFT\"]#,\"AAPL\",\"AMZN\"]\n",
    "mult_df = merge_df_by_column_name('daily_return',  '2020-1-1', '2020-12-31', *faang_list)\n",
    "mult_df.corr()"
   ]
  },
  {
   "cell_type": "code",
   "execution_count": 58,
   "id": "421b8863-654b-417f-83e7-96d76ad3cb1f",
   "metadata": {},
   "outputs": [
    {
     "data": {
      "text/plain": [
       "<Axes: >"
      ]
     },
     "execution_count": 58,
     "metadata": {},
     "output_type": "execute_result"
    },
    {
     "data": {
      "image/png": "[encoded data removed]",
      "text/plain": [
       "<Figure size 640x480 with 1 Axes>"
      ]
     },
     "metadata": {},
     "output_type": "display_data"
    }
   ],
   "source": [
    "mult_df.corr()['NFLX'].plot(kind='bar')"
   ]
  },
  {
   "cell_type": "markdown",
   "id": "5f5a11bc-a769-4698-ad6b-ca622cd3a1b5",
   "metadata": {},
   "source": [
    "<h2>Get the variance of a stock</h2>"
   ]
  },
  {
   "cell_type": "code",
   "execution_count": 61,
   "id": "7e47622f-058b-456c-8526-bd16f533d632",
   "metadata": {},
   "outputs": [
    {
     "name": "stdout",
     "output_type": "stream",
     "text": [
      "Variance:  0.0008542915350884244\n",
      "Annualized Variance :  0.21613575837737137\n"
     ]
    }
   ],
   "source": [
    "print(\"Variance: \", mult_df['NFLX'].var())\n",
    "# in an annualized form\n",
    "days = len(mult_df.index)\n",
    "print(\"Annualized Variance : \", mult_df['NFLX'].var() * days)"
   ]
  },
  {
   "cell_type": "markdown",
   "id": "7749f781-5275-4dc9-a375-bc59343fc39e",
   "metadata": {},
   "source": [
    "<h2>Get Covariance of Stocks</h2>"
   ]
  },
  {
   "cell_type": "code",
   "execution_count": 62,
   "id": "9b8c12be-4818-492d-8a18-4446104a0050",
   "metadata": {},
   "outputs": [
    {
     "data": {
      "text/html": [
       "<div>\n",
       "<style scoped>\n",
       "    .dataframe tbody tr th:only-of-type {\n",
       "        vertical-align: middle;\n",
       "    }\n",
       "\n",
       "    .dataframe tbody tr th {\n",
       "        vertical-align: top;\n",
       "    }\n",
       "\n",
       "    .dataframe thead th {\n",
       "        text-align: right;\n",
       "    }\n",
       "</style>\n",
       "<table border=\"1\" class=\"dataframe\">\n",
       "  <thead>\n",
       "    <tr style=\"text-align: right;\">\n",
       "      <th></th>\n",
       "      <th>FB</th>\n",
       "      <th>NFLX</th>\n",
       "      <th>GOOG</th>\n",
       "      <th>MSFT</th>\n",
       "    </tr>\n",
       "  </thead>\n",
       "  <tbody>\n",
       "    <tr>\n",
       "      <th>FB</th>\n",
       "      <td>0.215868</td>\n",
       "      <td>0.128576</td>\n",
       "      <td>0.145724</td>\n",
       "      <td>0.160259</td>\n",
       "    </tr>\n",
       "    <tr>\n",
       "      <th>NFLX</th>\n",
       "      <td>0.128576</td>\n",
       "      <td>0.216136</td>\n",
       "      <td>0.098242</td>\n",
       "      <td>0.127468</td>\n",
       "    </tr>\n",
       "    <tr>\n",
       "      <th>GOOG</th>\n",
       "      <td>0.145724</td>\n",
       "      <td>0.098242</td>\n",
       "      <td>0.149644</td>\n",
       "      <td>0.147653</td>\n",
       "    </tr>\n",
       "    <tr>\n",
       "      <th>MSFT</th>\n",
       "      <td>0.160259</td>\n",
       "      <td>0.127468</td>\n",
       "      <td>0.147653</td>\n",
       "      <td>0.197069</td>\n",
       "    </tr>\n",
       "  </tbody>\n",
       "</table>\n",
       "</div>"
      ],
      "text/plain": [
       "            FB      NFLX      GOOG      MSFT\n",
       "FB    0.215868  0.128576  0.145724  0.160259\n",
       "NFLX  0.128576  0.216136  0.098242  0.127468\n",
       "GOOG  0.145724  0.098242  0.149644  0.147653\n",
       "MSFT  0.160259  0.127468  0.147653  0.197069"
      ]
     },
     "execution_count": 62,
     "metadata": {},
     "output_type": "execute_result"
    }
   ],
   "source": [
    "mult_df.cov() * 253"
   ]
  },
  {
   "cell_type": "markdown",
   "id": "28b092bc-9884-47e0-b525-2776573abf70",
   "metadata": {},
   "source": [
    "<h2>Calculating a Portfolio's Variance</h2>"
   ]
  },
  {
   "cell_type": "markdown",
   "id": "82690636-a5db-402a-bf13-40989c3fdf30",
   "metadata": {},
   "source": [
    "When calculating the variance of a portfolio, one must establish its weight\n",
    "\n",
    "$w_1,w_2$ = Stock Weights\n",
    "\n",
    "$\\sigma_1,\\sigma_1$ = Stock standard deviations\n",
    "\n",
    "Portfolio Variance = $(w_1\\sigma_1 + w_2\\sigma_2)^{2}$\n",
    "\n",
    "since $(a+b)^{2} = a^{2} + 2ab+ b^{2}$\n",
    "\n",
    "then the portfolio variance is $w_1^{2}\\sigma_1^{2} + 2w_1\\sigma_1w_2\\sigma_2\\rho_{1,2} + w_2^{2}\\sigma_2^{2}$"
   ]
  },
  {
   "cell_type": "code",
   "execution_count": 64,
   "id": "810f0077-aeef-4888-9043-b4b468f4270e",
   "metadata": {},
   "outputs": [
    {
     "name": "stdout",
     "output_type": "stream",
     "text": [
      "Working on :  FB\n",
      "colname daily_return\n",
      "Working on :  NEM\n",
      "colname daily_return\n"
     ]
    },
    {
     "data": {
      "text/html": [
       "<div>\n",
       "<style scoped>\n",
       "    .dataframe tbody tr th:only-of-type {\n",
       "        vertical-align: middle;\n",
       "    }\n",
       "\n",
       "    .dataframe tbody tr th {\n",
       "        vertical-align: top;\n",
       "    }\n",
       "\n",
       "    .dataframe thead th {\n",
       "        text-align: right;\n",
       "    }\n",
       "</style>\n",
       "<table border=\"1\" class=\"dataframe\">\n",
       "  <thead>\n",
       "    <tr style=\"text-align: right;\">\n",
       "      <th></th>\n",
       "      <th>FB</th>\n",
       "      <th>NEM</th>\n",
       "    </tr>\n",
       "  </thead>\n",
       "  <tbody>\n",
       "    <tr>\n",
       "      <th>FB</th>\n",
       "      <td>1.000000</td>\n",
       "      <td>0.186682</td>\n",
       "    </tr>\n",
       "    <tr>\n",
       "      <th>NEM</th>\n",
       "      <td>0.186682</td>\n",
       "      <td>1.000000</td>\n",
       "    </tr>\n",
       "  </tbody>\n",
       "</table>\n",
       "</div>"
      ],
      "text/plain": [
       "           FB       NEM\n",
       "FB   1.000000  0.186682\n",
       "NEM  0.186682  1.000000"
      ]
     },
     "execution_count": 64,
     "metadata": {},
     "output_type": "execute_result"
    }
   ],
   "source": [
    "port_list = [\"FB\",\"NEM\"]\n",
    "port_df = merge_df_by_column_name('daily_return','2020-1-1','2020-12-31',*port_list)\n",
    "\n",
    "port_df\n",
    "\n",
    "port_df.corr()"
   ]
  },
  {
   "cell_type": "code",
   "execution_count": 67,
   "id": "3cede934-b4e8-4dd9-b3f0-4e27c250e217",
   "metadata": {},
   "outputs": [
    {
     "name": "stdout",
     "output_type": "stream",
     "text": [
      "Working on :  FB\n",
      "colname Adj Close\n",
      "Working on :  NEM\n",
      "colname Adj Close\n",
      "Portfolio Variance :  0.12685748050948573\n",
      "FB Variance :  0.21586759061066657\n",
      "NEM Variance :  0.2117209133919327\n"
     ]
    },
    {
     "name": "stderr",
     "output_type": "stream",
     "text": [
      "Exception in callback BaseSelectorEventLoop._read_from_self()\n",
      "handle: <Handle BaseSelectorEventLoop._read_from_self()>\n",
      "Traceback (most recent call last):\n",
      "  File \"C:\\Users\\Zak\\anaconda3\\envs\\financeEnv\\lib\\asyncio\\events.py\", line 80, in _run\n",
      "    self._context.run(self._callback, *self._args)\n",
      "  File \"C:\\Users\\Zak\\anaconda3\\envs\\financeEnv\\lib\\asyncio\\selector_events.py\", line 115, in _read_from_self\n",
      "    data = self._ssock.recv(4096)\n",
      "ConnectionResetError: [WinError 10054] An existing connection was forcibly closed by the remote host\n",
      "Exception in callback BaseSelectorEventLoop._read_from_self()\n",
      "handle: <Handle BaseSelectorEventLoop._read_from_self()>\n",
      "Traceback (most recent call last):\n",
      "  File \"C:\\Users\\Zak\\anaconda3\\envs\\financeEnv\\lib\\asyncio\\events.py\", line 80, in _run\n",
      "    self._context.run(self._callback, *self._args)\n",
      "  File \"C:\\Users\\Zak\\anaconda3\\envs\\financeEnv\\lib\\asyncio\\selector_events.py\", line 115, in _read_from_self\n",
      "    data = self._ssock.recv(4096)\n",
      "ConnectionResetError: [WinError 10054] An existing connection was forcibly closed by the remote host\n",
      "Exception in callback BaseSelectorEventLoop._read_from_self()\n",
      "handle: <Handle BaseSelectorEventLoop._read_from_self()>\n",
      "Traceback (most recent call last):\n",
      "  File \"C:\\Users\\Zak\\anaconda3\\envs\\financeEnv\\lib\\asyncio\\events.py\", line 80, in _run\n",
      "    self._context.run(self._callback, *self._args)\n",
      "  File \"C:\\Users\\Zak\\anaconda3\\envs\\financeEnv\\lib\\asyncio\\selector_events.py\", line 115, in _read_from_self\n",
      "    data = self._ssock.recv(4096)\n",
      "ConnectionResetError: [WinError 10054] An existing connection was forcibly closed by the remote host\n",
      "Exception in callback BaseSelectorEventLoop._read_from_self()\n",
      "handle: <Handle BaseSelectorEventLoop._read_from_self()>\n",
      "Traceback (most recent call last):\n",
      "  File \"C:\\Users\\Zak\\anaconda3\\envs\\financeEnv\\lib\\asyncio\\events.py\", line 80, in _run\n",
      "    self._context.run(self._callback, *self._args)\n",
      "  File \"C:\\Users\\Zak\\anaconda3\\envs\\financeEnv\\lib\\asyncio\\selector_events.py\", line 115, in _read_from_self\n",
      "    data = self._ssock.recv(4096)\n",
      "ConnectionResetError: [WinError 10054] An existing connection was forcibly closed by the remote host\n",
      "Exception in callback BaseSelectorEventLoop._read_from_self()\n",
      "handle: <Handle BaseSelectorEventLoop._read_from_self()>\n",
      "Traceback (most recent call last):\n",
      "  File \"C:\\Users\\Zak\\anaconda3\\envs\\financeEnv\\lib\\asyncio\\events.py\", line 80, in _run\n",
      "    self._context.run(self._callback, *self._args)\n",
      "  File \"C:\\Users\\Zak\\anaconda3\\envs\\financeEnv\\lib\\asyncio\\selector_events.py\", line 115, in _read_from_self\n",
      "    data = self._ssock.recv(4096)\n",
      "ConnectionResetError: [WinError 10054] An existing connection was forcibly closed by the remote host\n"
     ]
    }
   ],
   "source": [
    "price_df = merge_df_by_column_name('Adj Close','2020-1-1','2020-12-31',*port_list)\n",
    "price_df.head()\n",
    "\n",
    "# weight = value of holding over value of all holdings\n",
    "# one share of FB\n",
    "fb_wt = 209.78 / 418.48\n",
    "# 5 shares of WEM\n",
    "new_wt = 208.70 / 418048\n",
    "\n",
    "fb_wt = 0.5012\n",
    "nem_wt = 0.4988\n",
    "wts = np.array([fb_wt,nem_wt])\n",
    "# transpose matrix\n",
    "port_var = np.dot(wts.T, np.dot(port_df.cov() * 253, wts))\n",
    "print(\"Portfolio Variance : \", port_var)\n",
    "print(\"FB Variance : \", port_df['FB'].var()*253)\n",
    "print(\"NEM Variance : \", port_df['NEM'].var()*253)"
   ]
  }
 ],
 "metadata": {
  "kernelspec": {
   "display_name": "Python 3 (ipykernel)",
   "language": "python",
   "name": "python3"
  },
  "language_info": {
   "codemirror_mode": {
    "name": "ipython",
    "version": 3
   },
   "file_extension": ".py",
   "mimetype": "text/x-python",
   "name": "python",
   "nbconvert_exporter": "python",
   "pygments_lexer": "ipython3",
   "version": "3.9.16"
  }
 },
 "nbformat": 4,
 "nbformat_minor": 5
}
